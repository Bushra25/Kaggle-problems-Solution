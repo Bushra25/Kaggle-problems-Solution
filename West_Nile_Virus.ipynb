{
 "cells": [
  {
   "cell_type": "markdown",
   "metadata": {},
   "source": [
    "# Project 4: \n",
    "# West Nile Virus Prediction"
   ]
  },
  {
   "cell_type": "markdown",
   "metadata": {},
   "source": [
    "Given weather, location, testing, and spraying data, this competition asks you to predict when and where different species of mosquitos will test positive for West Nile virus. A more accurate method of predicting outbreaks of West Nile virus in mosquitos will help the City of Chicago and CPHD more efficiently and effectively allocate resources towards preventing transmission of this potentially deadly virus. "
   ]
  },
  {
   "cell_type": "markdown",
   "metadata": {},
   "source": [
    "Submissions are evaluated on area under the ROC curve between the predicted probability that West Nile Virus is present and the observed outcomes. (For each record in the test set, you should predict a real-valued probability that WNV is present)"
   ]
  },
  {
   "cell_type": "markdown",
   "metadata": {},
   "source": [
    "- The training set consists of data from 2007, 2009, 2011, and 2013\n",
    "- The test set you are requested to predict the test results for 2008, 2010, 2012, and 2014."
   ]
  },
  {
   "cell_type": "markdown",
   "metadata": {},
   "source": [
    "## Step 1: Load the data and perform basic operations."
   ]
  },
  {
   "cell_type": "code",
   "execution_count": 772,
   "metadata": {},
   "outputs": [],
   "source": [
    "# Import some necessary librairies\n",
    "import numpy as np\n",
    "import pandas as pd\n",
    "import seaborn as sns\n",
    "import matplotlib.pyplot as plt\n",
    "from xgboost import XGBClassifier\n",
    "from sklearn.preprocessing import StandardScaler\n",
    "from sklearn.neighbors import KNeighborsClassifier\n",
    "from sklearn.model_selection import GridSearchCV\n",
    "from sklearn.linear_model import LogisticRegression\n",
    "from sklearn.metrics import roc_auc_score, roc_curve"
   ]
  },
  {
   "cell_type": "code",
   "execution_count": 701,
   "metadata": {},
   "outputs": [],
   "source": [
    "# load all datasets in pandas dataframes\n",
    "train_data = pd.read_csv('../assets/train.csv')\n",
    "test_data = pd.read_csv('../assets/test.csv')\n",
    "spray_data = pd.read_csv('../assets/spray.csv')\n",
    "weather_data = pd.read_csv('../assets/weather.csv')"
   ]
  },
  {
   "cell_type": "code",
   "execution_count": 702,
   "metadata": {},
   "outputs": [
    {
     "data": {
      "text/html": [
       "<div>\n",
       "<style scoped>\n",
       "    .dataframe tbody tr th:only-of-type {\n",
       "        vertical-align: middle;\n",
       "    }\n",
       "\n",
       "    .dataframe tbody tr th {\n",
       "        vertical-align: top;\n",
       "    }\n",
       "\n",
       "    .dataframe thead th {\n",
       "        text-align: right;\n",
       "    }\n",
       "</style>\n",
       "<table border=\"1\" class=\"dataframe\">\n",
       "  <thead>\n",
       "    <tr style=\"text-align: right;\">\n",
       "      <th></th>\n",
       "      <th>Date</th>\n",
       "      <th>Address</th>\n",
       "      <th>Species</th>\n",
       "      <th>Block</th>\n",
       "      <th>Street</th>\n",
       "      <th>Trap</th>\n",
       "      <th>AddressNumberAndStreet</th>\n",
       "      <th>Latitude</th>\n",
       "      <th>Longitude</th>\n",
       "      <th>AddressAccuracy</th>\n",
       "      <th>NumMosquitos</th>\n",
       "      <th>WnvPresent</th>\n",
       "    </tr>\n",
       "  </thead>\n",
       "  <tbody>\n",
       "    <tr>\n",
       "      <th>0</th>\n",
       "      <td>2007-05-29</td>\n",
       "      <td>4100 North Oak Park Avenue, Chicago, IL 60634,...</td>\n",
       "      <td>CULEX PIPIENS/RESTUANS</td>\n",
       "      <td>41</td>\n",
       "      <td>N OAK PARK AVE</td>\n",
       "      <td>T002</td>\n",
       "      <td>4100  N OAK PARK AVE, Chicago, IL</td>\n",
       "      <td>41.95469</td>\n",
       "      <td>-87.800991</td>\n",
       "      <td>9</td>\n",
       "      <td>1</td>\n",
       "      <td>0</td>\n",
       "    </tr>\n",
       "    <tr>\n",
       "      <th>1</th>\n",
       "      <td>2007-05-29</td>\n",
       "      <td>4100 North Oak Park Avenue, Chicago, IL 60634,...</td>\n",
       "      <td>CULEX RESTUANS</td>\n",
       "      <td>41</td>\n",
       "      <td>N OAK PARK AVE</td>\n",
       "      <td>T002</td>\n",
       "      <td>4100  N OAK PARK AVE, Chicago, IL</td>\n",
       "      <td>41.95469</td>\n",
       "      <td>-87.800991</td>\n",
       "      <td>9</td>\n",
       "      <td>1</td>\n",
       "      <td>0</td>\n",
       "    </tr>\n",
       "  </tbody>\n",
       "</table>\n",
       "</div>"
      ],
      "text/plain": [
       "         Date                                            Address  \\\n",
       "0  2007-05-29  4100 North Oak Park Avenue, Chicago, IL 60634,...   \n",
       "1  2007-05-29  4100 North Oak Park Avenue, Chicago, IL 60634,...   \n",
       "\n",
       "                  Species  Block           Street  Trap  \\\n",
       "0  CULEX PIPIENS/RESTUANS     41   N OAK PARK AVE  T002   \n",
       "1          CULEX RESTUANS     41   N OAK PARK AVE  T002   \n",
       "\n",
       "              AddressNumberAndStreet  Latitude  Longitude  AddressAccuracy  \\\n",
       "0  4100  N OAK PARK AVE, Chicago, IL  41.95469 -87.800991                9   \n",
       "1  4100  N OAK PARK AVE, Chicago, IL  41.95469 -87.800991                9   \n",
       "\n",
       "   NumMosquitos  WnvPresent  \n",
       "0             1           0  \n",
       "1             1           0  "
      ]
     },
     "execution_count": 702,
     "metadata": {},
     "output_type": "execute_result"
    }
   ],
   "source": [
    "# display the first five rows of the train dataset.\n",
    "train_data.head(2)"
   ]
  },
  {
   "cell_type": "code",
   "execution_count": 703,
   "metadata": {
    "scrolled": true
   },
   "outputs": [],
   "source": [
    "# Id: the id of the record\n",
    "# Date: date that the WNV test is performed\n",
    "# Address: approximate address of the location of trap. This is used to send to the GeoCoder. \n",
    "# Species: the species of mosquitos\n",
    "# Block: block number of address\n",
    "# Street: street name\n",
    "# Trap: Id of the trap\n",
    "# AddressNumberAndStreet: approximate address returned from GeoCoder\n",
    "# Latitude, Longitude: Latitude and Longitude returned from GeoCoder\n",
    "# AddressAccuracy: accuracy returned from GeoCoder\n",
    "# NumMosquitos: number of mosquitoes caught in this trap\n",
    "# WnvPresent: whether West Nile Virus was present in these mosquitos. 1 means WNV is present, and 0 means not present. "
   ]
  },
  {
   "cell_type": "code",
   "execution_count": 704,
   "metadata": {},
   "outputs": [
    {
     "data": {
      "text/html": [
       "<div>\n",
       "<style scoped>\n",
       "    .dataframe tbody tr th:only-of-type {\n",
       "        vertical-align: middle;\n",
       "    }\n",
       "\n",
       "    .dataframe tbody tr th {\n",
       "        vertical-align: top;\n",
       "    }\n",
       "\n",
       "    .dataframe thead th {\n",
       "        text-align: right;\n",
       "    }\n",
       "</style>\n",
       "<table border=\"1\" class=\"dataframe\">\n",
       "  <thead>\n",
       "    <tr style=\"text-align: right;\">\n",
       "      <th></th>\n",
       "      <th>Id</th>\n",
       "      <th>Date</th>\n",
       "      <th>Address</th>\n",
       "      <th>Species</th>\n",
       "      <th>Block</th>\n",
       "      <th>Street</th>\n",
       "      <th>Trap</th>\n",
       "      <th>AddressNumberAndStreet</th>\n",
       "      <th>Latitude</th>\n",
       "      <th>Longitude</th>\n",
       "      <th>AddressAccuracy</th>\n",
       "    </tr>\n",
       "  </thead>\n",
       "  <tbody>\n",
       "    <tr>\n",
       "      <th>0</th>\n",
       "      <td>1</td>\n",
       "      <td>2008-06-11</td>\n",
       "      <td>4100 North Oak Park Avenue, Chicago, IL 60634,...</td>\n",
       "      <td>CULEX PIPIENS/RESTUANS</td>\n",
       "      <td>41</td>\n",
       "      <td>N OAK PARK AVE</td>\n",
       "      <td>T002</td>\n",
       "      <td>4100  N OAK PARK AVE, Chicago, IL</td>\n",
       "      <td>41.95469</td>\n",
       "      <td>-87.800991</td>\n",
       "      <td>9</td>\n",
       "    </tr>\n",
       "    <tr>\n",
       "      <th>1</th>\n",
       "      <td>2</td>\n",
       "      <td>2008-06-11</td>\n",
       "      <td>4100 North Oak Park Avenue, Chicago, IL 60634,...</td>\n",
       "      <td>CULEX RESTUANS</td>\n",
       "      <td>41</td>\n",
       "      <td>N OAK PARK AVE</td>\n",
       "      <td>T002</td>\n",
       "      <td>4100  N OAK PARK AVE, Chicago, IL</td>\n",
       "      <td>41.95469</td>\n",
       "      <td>-87.800991</td>\n",
       "      <td>9</td>\n",
       "    </tr>\n",
       "    <tr>\n",
       "      <th>2</th>\n",
       "      <td>3</td>\n",
       "      <td>2008-06-11</td>\n",
       "      <td>4100 North Oak Park Avenue, Chicago, IL 60634,...</td>\n",
       "      <td>CULEX PIPIENS</td>\n",
       "      <td>41</td>\n",
       "      <td>N OAK PARK AVE</td>\n",
       "      <td>T002</td>\n",
       "      <td>4100  N OAK PARK AVE, Chicago, IL</td>\n",
       "      <td>41.95469</td>\n",
       "      <td>-87.800991</td>\n",
       "      <td>9</td>\n",
       "    </tr>\n",
       "    <tr>\n",
       "      <th>3</th>\n",
       "      <td>4</td>\n",
       "      <td>2008-06-11</td>\n",
       "      <td>4100 North Oak Park Avenue, Chicago, IL 60634,...</td>\n",
       "      <td>CULEX SALINARIUS</td>\n",
       "      <td>41</td>\n",
       "      <td>N OAK PARK AVE</td>\n",
       "      <td>T002</td>\n",
       "      <td>4100  N OAK PARK AVE, Chicago, IL</td>\n",
       "      <td>41.95469</td>\n",
       "      <td>-87.800991</td>\n",
       "      <td>9</td>\n",
       "    </tr>\n",
       "    <tr>\n",
       "      <th>4</th>\n",
       "      <td>5</td>\n",
       "      <td>2008-06-11</td>\n",
       "      <td>4100 North Oak Park Avenue, Chicago, IL 60634,...</td>\n",
       "      <td>CULEX TERRITANS</td>\n",
       "      <td>41</td>\n",
       "      <td>N OAK PARK AVE</td>\n",
       "      <td>T002</td>\n",
       "      <td>4100  N OAK PARK AVE, Chicago, IL</td>\n",
       "      <td>41.95469</td>\n",
       "      <td>-87.800991</td>\n",
       "      <td>9</td>\n",
       "    </tr>\n",
       "  </tbody>\n",
       "</table>\n",
       "</div>"
      ],
      "text/plain": [
       "   Id        Date                                            Address  \\\n",
       "0   1  2008-06-11  4100 North Oak Park Avenue, Chicago, IL 60634,...   \n",
       "1   2  2008-06-11  4100 North Oak Park Avenue, Chicago, IL 60634,...   \n",
       "2   3  2008-06-11  4100 North Oak Park Avenue, Chicago, IL 60634,...   \n",
       "3   4  2008-06-11  4100 North Oak Park Avenue, Chicago, IL 60634,...   \n",
       "4   5  2008-06-11  4100 North Oak Park Avenue, Chicago, IL 60634,...   \n",
       "\n",
       "                  Species  Block           Street  Trap  \\\n",
       "0  CULEX PIPIENS/RESTUANS     41   N OAK PARK AVE  T002   \n",
       "1          CULEX RESTUANS     41   N OAK PARK AVE  T002   \n",
       "2           CULEX PIPIENS     41   N OAK PARK AVE  T002   \n",
       "3        CULEX SALINARIUS     41   N OAK PARK AVE  T002   \n",
       "4         CULEX TERRITANS     41   N OAK PARK AVE  T002   \n",
       "\n",
       "              AddressNumberAndStreet  Latitude  Longitude  AddressAccuracy  \n",
       "0  4100  N OAK PARK AVE, Chicago, IL  41.95469 -87.800991                9  \n",
       "1  4100  N OAK PARK AVE, Chicago, IL  41.95469 -87.800991                9  \n",
       "2  4100  N OAK PARK AVE, Chicago, IL  41.95469 -87.800991                9  \n",
       "3  4100  N OAK PARK AVE, Chicago, IL  41.95469 -87.800991                9  \n",
       "4  4100  N OAK PARK AVE, Chicago, IL  41.95469 -87.800991                9  "
      ]
     },
     "execution_count": 704,
     "metadata": {},
     "output_type": "execute_result"
    }
   ],
   "source": [
    "# display the first five rows of the test dataset.\n",
    "test_data.head()"
   ]
  },
  {
   "cell_type": "code",
   "execution_count": 705,
   "metadata": {},
   "outputs": [
    {
     "data": {
      "text/html": [
       "<div>\n",
       "<style scoped>\n",
       "    .dataframe tbody tr th:only-of-type {\n",
       "        vertical-align: middle;\n",
       "    }\n",
       "\n",
       "    .dataframe tbody tr th {\n",
       "        vertical-align: top;\n",
       "    }\n",
       "\n",
       "    .dataframe thead th {\n",
       "        text-align: right;\n",
       "    }\n",
       "</style>\n",
       "<table border=\"1\" class=\"dataframe\">\n",
       "  <thead>\n",
       "    <tr style=\"text-align: right;\">\n",
       "      <th></th>\n",
       "      <th>Date</th>\n",
       "      <th>Time</th>\n",
       "      <th>Latitude</th>\n",
       "      <th>Longitude</th>\n",
       "    </tr>\n",
       "  </thead>\n",
       "  <tbody>\n",
       "    <tr>\n",
       "      <th>0</th>\n",
       "      <td>2011-08-29</td>\n",
       "      <td>6:56:58 PM</td>\n",
       "      <td>42.391623</td>\n",
       "      <td>-88.089163</td>\n",
       "    </tr>\n",
       "    <tr>\n",
       "      <th>1</th>\n",
       "      <td>2011-08-29</td>\n",
       "      <td>6:57:08 PM</td>\n",
       "      <td>42.391348</td>\n",
       "      <td>-88.089163</td>\n",
       "    </tr>\n",
       "    <tr>\n",
       "      <th>2</th>\n",
       "      <td>2011-08-29</td>\n",
       "      <td>6:57:18 PM</td>\n",
       "      <td>42.391022</td>\n",
       "      <td>-88.089157</td>\n",
       "    </tr>\n",
       "    <tr>\n",
       "      <th>3</th>\n",
       "      <td>2011-08-29</td>\n",
       "      <td>6:57:28 PM</td>\n",
       "      <td>42.390637</td>\n",
       "      <td>-88.089158</td>\n",
       "    </tr>\n",
       "    <tr>\n",
       "      <th>4</th>\n",
       "      <td>2011-08-29</td>\n",
       "      <td>6:57:38 PM</td>\n",
       "      <td>42.390410</td>\n",
       "      <td>-88.088858</td>\n",
       "    </tr>\n",
       "  </tbody>\n",
       "</table>\n",
       "</div>"
      ],
      "text/plain": [
       "         Date        Time   Latitude  Longitude\n",
       "0  2011-08-29  6:56:58 PM  42.391623 -88.089163\n",
       "1  2011-08-29  6:57:08 PM  42.391348 -88.089163\n",
       "2  2011-08-29  6:57:18 PM  42.391022 -88.089157\n",
       "3  2011-08-29  6:57:28 PM  42.390637 -88.089158\n",
       "4  2011-08-29  6:57:38 PM  42.390410 -88.088858"
      ]
     },
     "execution_count": 705,
     "metadata": {},
     "output_type": "execute_result"
    }
   ],
   "source": [
    "# display the first five rows of the spray dataset.\n",
    "spray_data.head()"
   ]
  },
  {
   "cell_type": "code",
   "execution_count": 706,
   "metadata": {},
   "outputs": [
    {
     "data": {
      "text/html": [
       "<div>\n",
       "<style scoped>\n",
       "    .dataframe tbody tr th:only-of-type {\n",
       "        vertical-align: middle;\n",
       "    }\n",
       "\n",
       "    .dataframe tbody tr th {\n",
       "        vertical-align: top;\n",
       "    }\n",
       "\n",
       "    .dataframe thead th {\n",
       "        text-align: right;\n",
       "    }\n",
       "</style>\n",
       "<table border=\"1\" class=\"dataframe\">\n",
       "  <thead>\n",
       "    <tr style=\"text-align: right;\">\n",
       "      <th></th>\n",
       "      <th>Station</th>\n",
       "      <th>Date</th>\n",
       "      <th>Tmax</th>\n",
       "      <th>Tmin</th>\n",
       "      <th>Tavg</th>\n",
       "      <th>Depart</th>\n",
       "      <th>DewPoint</th>\n",
       "      <th>WetBulb</th>\n",
       "      <th>Heat</th>\n",
       "      <th>Cool</th>\n",
       "      <th>...</th>\n",
       "      <th>CodeSum</th>\n",
       "      <th>Depth</th>\n",
       "      <th>Water1</th>\n",
       "      <th>SnowFall</th>\n",
       "      <th>PrecipTotal</th>\n",
       "      <th>StnPressure</th>\n",
       "      <th>SeaLevel</th>\n",
       "      <th>ResultSpeed</th>\n",
       "      <th>ResultDir</th>\n",
       "      <th>AvgSpeed</th>\n",
       "    </tr>\n",
       "  </thead>\n",
       "  <tbody>\n",
       "    <tr>\n",
       "      <th>0</th>\n",
       "      <td>1</td>\n",
       "      <td>2007-05-01</td>\n",
       "      <td>83</td>\n",
       "      <td>50</td>\n",
       "      <td>67</td>\n",
       "      <td>14</td>\n",
       "      <td>51</td>\n",
       "      <td>56</td>\n",
       "      <td>0</td>\n",
       "      <td>2</td>\n",
       "      <td>...</td>\n",
       "      <td></td>\n",
       "      <td>0</td>\n",
       "      <td>M</td>\n",
       "      <td>0.0</td>\n",
       "      <td>0.00</td>\n",
       "      <td>29.10</td>\n",
       "      <td>29.82</td>\n",
       "      <td>1.7</td>\n",
       "      <td>27</td>\n",
       "      <td>9.2</td>\n",
       "    </tr>\n",
       "    <tr>\n",
       "      <th>1</th>\n",
       "      <td>2</td>\n",
       "      <td>2007-05-01</td>\n",
       "      <td>84</td>\n",
       "      <td>52</td>\n",
       "      <td>68</td>\n",
       "      <td>M</td>\n",
       "      <td>51</td>\n",
       "      <td>57</td>\n",
       "      <td>0</td>\n",
       "      <td>3</td>\n",
       "      <td>...</td>\n",
       "      <td></td>\n",
       "      <td>M</td>\n",
       "      <td>M</td>\n",
       "      <td>M</td>\n",
       "      <td>0.00</td>\n",
       "      <td>29.18</td>\n",
       "      <td>29.82</td>\n",
       "      <td>2.7</td>\n",
       "      <td>25</td>\n",
       "      <td>9.6</td>\n",
       "    </tr>\n",
       "    <tr>\n",
       "      <th>2</th>\n",
       "      <td>1</td>\n",
       "      <td>2007-05-02</td>\n",
       "      <td>59</td>\n",
       "      <td>42</td>\n",
       "      <td>51</td>\n",
       "      <td>-3</td>\n",
       "      <td>42</td>\n",
       "      <td>47</td>\n",
       "      <td>14</td>\n",
       "      <td>0</td>\n",
       "      <td>...</td>\n",
       "      <td>BR</td>\n",
       "      <td>0</td>\n",
       "      <td>M</td>\n",
       "      <td>0.0</td>\n",
       "      <td>0.00</td>\n",
       "      <td>29.38</td>\n",
       "      <td>30.09</td>\n",
       "      <td>13.0</td>\n",
       "      <td>4</td>\n",
       "      <td>13.4</td>\n",
       "    </tr>\n",
       "    <tr>\n",
       "      <th>3</th>\n",
       "      <td>2</td>\n",
       "      <td>2007-05-02</td>\n",
       "      <td>60</td>\n",
       "      <td>43</td>\n",
       "      <td>52</td>\n",
       "      <td>M</td>\n",
       "      <td>42</td>\n",
       "      <td>47</td>\n",
       "      <td>13</td>\n",
       "      <td>0</td>\n",
       "      <td>...</td>\n",
       "      <td>BR HZ</td>\n",
       "      <td>M</td>\n",
       "      <td>M</td>\n",
       "      <td>M</td>\n",
       "      <td>0.00</td>\n",
       "      <td>29.44</td>\n",
       "      <td>30.08</td>\n",
       "      <td>13.3</td>\n",
       "      <td>2</td>\n",
       "      <td>13.4</td>\n",
       "    </tr>\n",
       "    <tr>\n",
       "      <th>4</th>\n",
       "      <td>1</td>\n",
       "      <td>2007-05-03</td>\n",
       "      <td>66</td>\n",
       "      <td>46</td>\n",
       "      <td>56</td>\n",
       "      <td>2</td>\n",
       "      <td>40</td>\n",
       "      <td>48</td>\n",
       "      <td>9</td>\n",
       "      <td>0</td>\n",
       "      <td>...</td>\n",
       "      <td></td>\n",
       "      <td>0</td>\n",
       "      <td>M</td>\n",
       "      <td>0.0</td>\n",
       "      <td>0.00</td>\n",
       "      <td>29.39</td>\n",
       "      <td>30.12</td>\n",
       "      <td>11.7</td>\n",
       "      <td>7</td>\n",
       "      <td>11.9</td>\n",
       "    </tr>\n",
       "  </tbody>\n",
       "</table>\n",
       "<p>5 rows × 22 columns</p>\n",
       "</div>"
      ],
      "text/plain": [
       "   Station        Date  Tmax  Tmin Tavg Depart  DewPoint WetBulb Heat Cool  \\\n",
       "0        1  2007-05-01    83    50   67     14        51      56    0    2   \n",
       "1        2  2007-05-01    84    52   68      M        51      57    0    3   \n",
       "2        1  2007-05-02    59    42   51     -3        42      47   14    0   \n",
       "3        2  2007-05-02    60    43   52      M        42      47   13    0   \n",
       "4        1  2007-05-03    66    46   56      2        40      48    9    0   \n",
       "\n",
       "     ...    CodeSum Depth Water1 SnowFall PrecipTotal StnPressure SeaLevel  \\\n",
       "0    ...                0      M      0.0        0.00       29.10    29.82   \n",
       "1    ...                M      M        M        0.00       29.18    29.82   \n",
       "2    ...         BR     0      M      0.0        0.00       29.38    30.09   \n",
       "3    ...      BR HZ     M      M        M        0.00       29.44    30.08   \n",
       "4    ...                0      M      0.0        0.00       29.39    30.12   \n",
       "\n",
       "  ResultSpeed ResultDir  AvgSpeed  \n",
       "0         1.7        27       9.2  \n",
       "1         2.7        25       9.6  \n",
       "2        13.0         4      13.4  \n",
       "3        13.3         2      13.4  \n",
       "4        11.7         7      11.9  \n",
       "\n",
       "[5 rows x 22 columns]"
      ]
     },
     "execution_count": 706,
     "metadata": {},
     "output_type": "execute_result"
    }
   ],
   "source": [
    "# display the first five rows of the weather dataset.\n",
    "weather_data.head()"
   ]
  },
  {
   "cell_type": "markdown",
   "metadata": {},
   "source": [
    "#### 1- Understand Problem and features:"
   ]
  },
  {
   "cell_type": "code",
   "execution_count": 707,
   "metadata": {
    "scrolled": true
   },
   "outputs": [
    {
     "name": "stdout",
     "output_type": "stream",
     "text": [
      "Observations Number in the Trainset: 10506\n"
     ]
    }
   ],
   "source": [
    "# Number of observations in trainset\n",
    "print('Observations Number in the Trainset: {}'.format(len(train_data)))"
   ]
  },
  {
   "cell_type": "code",
   "execution_count": 708,
   "metadata": {},
   "outputs": [
    {
     "name": "stdout",
     "output_type": "stream",
     "text": [
      "Observations Number in the Testset: 116293\n"
     ]
    }
   ],
   "source": [
    "# Number of observations in testset\n",
    "print('Observations Number in the Testset: {}'.format(len(test_data)))"
   ]
  },
  {
   "cell_type": "code",
   "execution_count": 709,
   "metadata": {},
   "outputs": [
    {
     "name": "stdout",
     "output_type": "stream",
     "text": [
      "Features Number in trainset: 12\n",
      "Features Number in testset: 11\n"
     ]
    }
   ],
   "source": [
    "# number of features for each train and test set\n",
    "print('Features Number in trainset: {}'.format(len(train_data.columns)))\n",
    "print('Features Number in testset: {}'.format(len(test_data.columns)))\n"
   ]
  },
  {
   "cell_type": "code",
   "execution_count": 710,
   "metadata": {
    "scrolled": false
   },
   "outputs": [
    {
     "data": {
      "text/plain": [
       "Index(['Date', 'Address', 'Species', 'Block', 'Street', 'Trap',\n",
       "       'AddressNumberAndStreet', 'Latitude', 'Longitude', 'AddressAccuracy',\n",
       "       'NumMosquitos', 'WnvPresent'],\n",
       "      dtype='object')"
      ]
     },
     "execution_count": 710,
     "metadata": {},
     "output_type": "execute_result"
    }
   ],
   "source": [
    "# Train Features names:\n",
    "train_data.columns"
   ]
  },
  {
   "cell_type": "code",
   "execution_count": 711,
   "metadata": {},
   "outputs": [
    {
     "data": {
      "text/plain": [
       "Index(['Id', 'Date', 'Address', 'Species', 'Block', 'Street', 'Trap',\n",
       "       'AddressNumberAndStreet', 'Latitude', 'Longitude', 'AddressAccuracy'],\n",
       "      dtype='object')"
      ]
     },
     "execution_count": 711,
     "metadata": {},
     "output_type": "execute_result"
    }
   ],
   "source": [
    "# Test Features names:\n",
    "test_data.columns"
   ]
  },
  {
   "cell_type": "markdown",
   "metadata": {},
   "source": [
    "#### 2- Merge Datasets:"
   ]
  },
  {
   "cell_type": "code",
   "execution_count": 712,
   "metadata": {},
   "outputs": [
    {
     "data": {
      "text/html": [
       "<div>\n",
       "<style scoped>\n",
       "    .dataframe tbody tr th:only-of-type {\n",
       "        vertical-align: middle;\n",
       "    }\n",
       "\n",
       "    .dataframe tbody tr th {\n",
       "        vertical-align: top;\n",
       "    }\n",
       "\n",
       "    .dataframe thead th {\n",
       "        text-align: right;\n",
       "    }\n",
       "</style>\n",
       "<table border=\"1\" class=\"dataframe\">\n",
       "  <thead>\n",
       "    <tr style=\"text-align: right;\">\n",
       "      <th></th>\n",
       "      <th>Address</th>\n",
       "      <th>AddressAccuracy</th>\n",
       "      <th>AddressNumberAndStreet</th>\n",
       "      <th>Block</th>\n",
       "      <th>Date</th>\n",
       "      <th>Id</th>\n",
       "      <th>Latitude</th>\n",
       "      <th>Longitude</th>\n",
       "      <th>NumMosquitos</th>\n",
       "      <th>Species</th>\n",
       "      <th>Street</th>\n",
       "      <th>Trap</th>\n",
       "      <th>WnvPresent</th>\n",
       "    </tr>\n",
       "  </thead>\n",
       "  <tbody>\n",
       "    <tr>\n",
       "      <th>0</th>\n",
       "      <td>4100 North Oak Park Avenue, Chicago, IL 60634,...</td>\n",
       "      <td>9</td>\n",
       "      <td>4100  N OAK PARK AVE, Chicago, IL</td>\n",
       "      <td>41</td>\n",
       "      <td>2007-05-29</td>\n",
       "      <td>NaN</td>\n",
       "      <td>41.95469</td>\n",
       "      <td>-87.800991</td>\n",
       "      <td>1.0</td>\n",
       "      <td>CULEX PIPIENS/RESTUANS</td>\n",
       "      <td>N OAK PARK AVE</td>\n",
       "      <td>T002</td>\n",
       "      <td>0.0</td>\n",
       "    </tr>\n",
       "    <tr>\n",
       "      <th>1</th>\n",
       "      <td>4100 North Oak Park Avenue, Chicago, IL 60634,...</td>\n",
       "      <td>9</td>\n",
       "      <td>4100  N OAK PARK AVE, Chicago, IL</td>\n",
       "      <td>41</td>\n",
       "      <td>2007-05-29</td>\n",
       "      <td>NaN</td>\n",
       "      <td>41.95469</td>\n",
       "      <td>-87.800991</td>\n",
       "      <td>1.0</td>\n",
       "      <td>CULEX RESTUANS</td>\n",
       "      <td>N OAK PARK AVE</td>\n",
       "      <td>T002</td>\n",
       "      <td>0.0</td>\n",
       "    </tr>\n",
       "  </tbody>\n",
       "</table>\n",
       "</div>"
      ],
      "text/plain": [
       "                                             Address  AddressAccuracy  \\\n",
       "0  4100 North Oak Park Avenue, Chicago, IL 60634,...                9   \n",
       "1  4100 North Oak Park Avenue, Chicago, IL 60634,...                9   \n",
       "\n",
       "              AddressNumberAndStreet  Block        Date  Id  Latitude  \\\n",
       "0  4100  N OAK PARK AVE, Chicago, IL     41  2007-05-29 NaN  41.95469   \n",
       "1  4100  N OAK PARK AVE, Chicago, IL     41  2007-05-29 NaN  41.95469   \n",
       "\n",
       "   Longitude  NumMosquitos                 Species           Street  Trap  \\\n",
       "0 -87.800991           1.0  CULEX PIPIENS/RESTUANS   N OAK PARK AVE  T002   \n",
       "1 -87.800991           1.0          CULEX RESTUANS   N OAK PARK AVE  T002   \n",
       "\n",
       "   WnvPresent  \n",
       "0         0.0  \n",
       "1         0.0  "
      ]
     },
     "execution_count": 712,
     "metadata": {},
     "output_type": "execute_result"
    }
   ],
   "source": [
    "# Merge train and test data to perform preprocess together\n",
    "both = pd.concat([train_data,test_data], axis=0, sort=True, ignore_index=True)\n",
    "both.head(2)"
   ]
  },
  {
   "cell_type": "code",
   "execution_count": 713,
   "metadata": {},
   "outputs": [
    {
     "data": {
      "text/plain": [
       "(126799, 13)"
      ]
     },
     "execution_count": 713,
     "metadata": {},
     "output_type": "execute_result"
    }
   ],
   "source": [
    "# check shape\n",
    "both.shape"
   ]
  },
  {
   "cell_type": "code",
   "execution_count": 714,
   "metadata": {},
   "outputs": [
    {
     "data": {
      "text/plain": [
       "array([    0,     1,     2, ..., 10503, 10504, 10505])"
      ]
     },
     "execution_count": 714,
     "metadata": {},
     "output_type": "execute_result"
    }
   ],
   "source": [
    "# store train data index\n",
    "train_index = both[:train_data.shape[0]].index.values\n",
    "train_index"
   ]
  },
  {
   "cell_type": "code",
   "execution_count": 715,
   "metadata": {
    "scrolled": true
   },
   "outputs": [
    {
     "data": {
      "text/plain": [
       "array([ 10506,  10507,  10508, ..., 126796, 126797, 126798])"
      ]
     },
     "execution_count": 715,
     "metadata": {},
     "output_type": "execute_result"
    }
   ],
   "source": [
    "# store test data index\n",
    "test_index = both[train_data.shape[0]:].index.values\n",
    "test_index"
   ]
  },
  {
   "cell_type": "code",
   "execution_count": 716,
   "metadata": {},
   "outputs": [
    {
     "data": {
      "text/html": [
       "<div>\n",
       "<style scoped>\n",
       "    .dataframe tbody tr th:only-of-type {\n",
       "        vertical-align: middle;\n",
       "    }\n",
       "\n",
       "    .dataframe tbody tr th {\n",
       "        vertical-align: top;\n",
       "    }\n",
       "\n",
       "    .dataframe thead th {\n",
       "        text-align: right;\n",
       "    }\n",
       "</style>\n",
       "<table border=\"1\" class=\"dataframe\">\n",
       "  <thead>\n",
       "    <tr style=\"text-align: right;\">\n",
       "      <th></th>\n",
       "      <th>Station</th>\n",
       "      <th>Date</th>\n",
       "      <th>Tmax</th>\n",
       "      <th>Tmin</th>\n",
       "      <th>Tavg</th>\n",
       "      <th>Depart</th>\n",
       "      <th>DewPoint</th>\n",
       "      <th>WetBulb</th>\n",
       "      <th>Heat</th>\n",
       "      <th>Cool</th>\n",
       "      <th>...</th>\n",
       "      <th>CodeSum</th>\n",
       "      <th>Depth</th>\n",
       "      <th>Water1</th>\n",
       "      <th>SnowFall</th>\n",
       "      <th>PrecipTotal</th>\n",
       "      <th>StnPressure</th>\n",
       "      <th>SeaLevel</th>\n",
       "      <th>ResultSpeed</th>\n",
       "      <th>ResultDir</th>\n",
       "      <th>AvgSpeed</th>\n",
       "    </tr>\n",
       "  </thead>\n",
       "  <tbody>\n",
       "    <tr>\n",
       "      <th>0</th>\n",
       "      <td>1</td>\n",
       "      <td>2007-05-01</td>\n",
       "      <td>83</td>\n",
       "      <td>50</td>\n",
       "      <td>67</td>\n",
       "      <td>14</td>\n",
       "      <td>51</td>\n",
       "      <td>56</td>\n",
       "      <td>0</td>\n",
       "      <td>2</td>\n",
       "      <td>...</td>\n",
       "      <td></td>\n",
       "      <td>0</td>\n",
       "      <td>M</td>\n",
       "      <td>0.0</td>\n",
       "      <td>0.00</td>\n",
       "      <td>29.10</td>\n",
       "      <td>29.82</td>\n",
       "      <td>1.7</td>\n",
       "      <td>27</td>\n",
       "      <td>9.2</td>\n",
       "    </tr>\n",
       "    <tr>\n",
       "      <th>1</th>\n",
       "      <td>2</td>\n",
       "      <td>2007-05-01</td>\n",
       "      <td>84</td>\n",
       "      <td>52</td>\n",
       "      <td>68</td>\n",
       "      <td>M</td>\n",
       "      <td>51</td>\n",
       "      <td>57</td>\n",
       "      <td>0</td>\n",
       "      <td>3</td>\n",
       "      <td>...</td>\n",
       "      <td></td>\n",
       "      <td>M</td>\n",
       "      <td>M</td>\n",
       "      <td>M</td>\n",
       "      <td>0.00</td>\n",
       "      <td>29.18</td>\n",
       "      <td>29.82</td>\n",
       "      <td>2.7</td>\n",
       "      <td>25</td>\n",
       "      <td>9.6</td>\n",
       "    </tr>\n",
       "    <tr>\n",
       "      <th>2</th>\n",
       "      <td>1</td>\n",
       "      <td>2007-05-02</td>\n",
       "      <td>59</td>\n",
       "      <td>42</td>\n",
       "      <td>51</td>\n",
       "      <td>-3</td>\n",
       "      <td>42</td>\n",
       "      <td>47</td>\n",
       "      <td>14</td>\n",
       "      <td>0</td>\n",
       "      <td>...</td>\n",
       "      <td>BR</td>\n",
       "      <td>0</td>\n",
       "      <td>M</td>\n",
       "      <td>0.0</td>\n",
       "      <td>0.00</td>\n",
       "      <td>29.38</td>\n",
       "      <td>30.09</td>\n",
       "      <td>13.0</td>\n",
       "      <td>4</td>\n",
       "      <td>13.4</td>\n",
       "    </tr>\n",
       "    <tr>\n",
       "      <th>3</th>\n",
       "      <td>2</td>\n",
       "      <td>2007-05-02</td>\n",
       "      <td>60</td>\n",
       "      <td>43</td>\n",
       "      <td>52</td>\n",
       "      <td>M</td>\n",
       "      <td>42</td>\n",
       "      <td>47</td>\n",
       "      <td>13</td>\n",
       "      <td>0</td>\n",
       "      <td>...</td>\n",
       "      <td>BR HZ</td>\n",
       "      <td>M</td>\n",
       "      <td>M</td>\n",
       "      <td>M</td>\n",
       "      <td>0.00</td>\n",
       "      <td>29.44</td>\n",
       "      <td>30.08</td>\n",
       "      <td>13.3</td>\n",
       "      <td>2</td>\n",
       "      <td>13.4</td>\n",
       "    </tr>\n",
       "    <tr>\n",
       "      <th>4</th>\n",
       "      <td>1</td>\n",
       "      <td>2007-05-03</td>\n",
       "      <td>66</td>\n",
       "      <td>46</td>\n",
       "      <td>56</td>\n",
       "      <td>2</td>\n",
       "      <td>40</td>\n",
       "      <td>48</td>\n",
       "      <td>9</td>\n",
       "      <td>0</td>\n",
       "      <td>...</td>\n",
       "      <td></td>\n",
       "      <td>0</td>\n",
       "      <td>M</td>\n",
       "      <td>0.0</td>\n",
       "      <td>0.00</td>\n",
       "      <td>29.39</td>\n",
       "      <td>30.12</td>\n",
       "      <td>11.7</td>\n",
       "      <td>7</td>\n",
       "      <td>11.9</td>\n",
       "    </tr>\n",
       "  </tbody>\n",
       "</table>\n",
       "<p>5 rows × 22 columns</p>\n",
       "</div>"
      ],
      "text/plain": [
       "   Station        Date  Tmax  Tmin Tavg Depart  DewPoint WetBulb Heat Cool  \\\n",
       "0        1  2007-05-01    83    50   67     14        51      56    0    2   \n",
       "1        2  2007-05-01    84    52   68      M        51      57    0    3   \n",
       "2        1  2007-05-02    59    42   51     -3        42      47   14    0   \n",
       "3        2  2007-05-02    60    43   52      M        42      47   13    0   \n",
       "4        1  2007-05-03    66    46   56      2        40      48    9    0   \n",
       "\n",
       "     ...    CodeSum Depth Water1 SnowFall PrecipTotal StnPressure SeaLevel  \\\n",
       "0    ...                0      M      0.0        0.00       29.10    29.82   \n",
       "1    ...                M      M        M        0.00       29.18    29.82   \n",
       "2    ...         BR     0      M      0.0        0.00       29.38    30.09   \n",
       "3    ...      BR HZ     M      M        M        0.00       29.44    30.08   \n",
       "4    ...                0      M      0.0        0.00       29.39    30.12   \n",
       "\n",
       "  ResultSpeed ResultDir  AvgSpeed  \n",
       "0         1.7        27       9.2  \n",
       "1         2.7        25       9.6  \n",
       "2        13.0         4      13.4  \n",
       "3        13.3         2      13.4  \n",
       "4        11.7         7      11.9  \n",
       "\n",
       "[5 rows x 22 columns]"
      ]
     },
     "execution_count": 716,
     "metadata": {},
     "output_type": "execute_result"
    }
   ],
   "source": [
    "# Merge weather data to previous dataframe\n",
    "weather_data.head()"
   ]
  },
  {
   "cell_type": "code",
   "execution_count": 717,
   "metadata": {},
   "outputs": [],
   "source": [
    "# Station 1: CHICAGO O’HARE INTERNATIONAL AIRPORT Lat: 41.995 Lon: -87.933 Elev: 662 ft. above sea level\n",
    "# Station 2: CHICAGO MIDWAY INTL ARPT Lat: 41.786 Lon: -87.752 Elev: 612 ft. above sea level\n",
    "station_lat_1 = 41.995 \n",
    "station_lat_2 = 41.786"
   ]
  },
  {
   "cell_type": "code",
   "execution_count": 718,
   "metadata": {},
   "outputs": [],
   "source": [
    "# add station column to previous integrated dataframe to help us during merge\n",
    "\n",
    "# set defult value as station = 1\n",
    "both['Station'] = 1\n",
    "both.loc[round(both.Latitude, 1) <= round(station_lat_2, 1),'Station'] = 2"
   ]
  },
  {
   "cell_type": "code",
   "execution_count": 719,
   "metadata": {
    "scrolled": true
   },
   "outputs": [
    {
     "data": {
      "text/plain": [
       "1    65046\n",
       "2    61753\n",
       "Name: Station, dtype: int64"
      ]
     },
     "execution_count": 719,
     "metadata": {},
     "output_type": "execute_result"
    }
   ],
   "source": [
    "# check station colimn\n",
    "both.Station.value_counts()"
   ]
  },
  {
   "cell_type": "code",
   "execution_count": 720,
   "metadata": {},
   "outputs": [
    {
     "data": {
      "text/plain": [
       "(126799, 14)"
      ]
     },
     "execution_count": 720,
     "metadata": {},
     "output_type": "execute_result"
    }
   ],
   "source": [
    "# check size before merge\n",
    "both.shape"
   ]
  },
  {
   "cell_type": "code",
   "execution_count": 721,
   "metadata": {
    "scrolled": false
   },
   "outputs": [],
   "source": [
    "# Merging now (weather data to previous dataframe)\n",
    "both = pd.merge(both,weather_data,on=['Date','Station'],how='inner')"
   ]
  },
  {
   "cell_type": "code",
   "execution_count": 722,
   "metadata": {},
   "outputs": [
    {
     "data": {
      "text/plain": [
       "(126799, 34)"
      ]
     },
     "execution_count": 722,
     "metadata": {},
     "output_type": "execute_result"
    }
   ],
   "source": [
    "# check size after merge\n",
    "both.shape"
   ]
  },
  {
   "cell_type": "code",
   "execution_count": 723,
   "metadata": {
    "scrolled": true
   },
   "outputs": [
    {
     "data": {
      "text/html": [
       "<div>\n",
       "<style scoped>\n",
       "    .dataframe tbody tr th:only-of-type {\n",
       "        vertical-align: middle;\n",
       "    }\n",
       "\n",
       "    .dataframe tbody tr th {\n",
       "        vertical-align: top;\n",
       "    }\n",
       "\n",
       "    .dataframe thead th {\n",
       "        text-align: right;\n",
       "    }\n",
       "</style>\n",
       "<table border=\"1\" class=\"dataframe\">\n",
       "  <thead>\n",
       "    <tr style=\"text-align: right;\">\n",
       "      <th></th>\n",
       "      <th>Address</th>\n",
       "      <th>AddressAccuracy</th>\n",
       "      <th>AddressNumberAndStreet</th>\n",
       "      <th>Block</th>\n",
       "      <th>Date</th>\n",
       "      <th>Id</th>\n",
       "      <th>Latitude</th>\n",
       "      <th>Longitude</th>\n",
       "      <th>NumMosquitos</th>\n",
       "      <th>Species</th>\n",
       "      <th>...</th>\n",
       "      <th>CodeSum</th>\n",
       "      <th>Depth</th>\n",
       "      <th>Water1</th>\n",
       "      <th>SnowFall</th>\n",
       "      <th>PrecipTotal</th>\n",
       "      <th>StnPressure</th>\n",
       "      <th>SeaLevel</th>\n",
       "      <th>ResultSpeed</th>\n",
       "      <th>ResultDir</th>\n",
       "      <th>AvgSpeed</th>\n",
       "    </tr>\n",
       "  </thead>\n",
       "  <tbody>\n",
       "    <tr>\n",
       "      <th>0</th>\n",
       "      <td>4100 North Oak Park Avenue, Chicago, IL 60634,...</td>\n",
       "      <td>9</td>\n",
       "      <td>4100  N OAK PARK AVE, Chicago, IL</td>\n",
       "      <td>41</td>\n",
       "      <td>2007-05-29</td>\n",
       "      <td>NaN</td>\n",
       "      <td>41.95469</td>\n",
       "      <td>-87.800991</td>\n",
       "      <td>1.0</td>\n",
       "      <td>CULEX PIPIENS/RESTUANS</td>\n",
       "      <td>...</td>\n",
       "      <td>BR HZ</td>\n",
       "      <td>0</td>\n",
       "      <td>M</td>\n",
       "      <td>0.0</td>\n",
       "      <td>0.00</td>\n",
       "      <td>29.39</td>\n",
       "      <td>30.11</td>\n",
       "      <td>5.8</td>\n",
       "      <td>18</td>\n",
       "      <td>6.5</td>\n",
       "    </tr>\n",
       "    <tr>\n",
       "      <th>1</th>\n",
       "      <td>4100 North Oak Park Avenue, Chicago, IL 60634,...</td>\n",
       "      <td>9</td>\n",
       "      <td>4100  N OAK PARK AVE, Chicago, IL</td>\n",
       "      <td>41</td>\n",
       "      <td>2007-05-29</td>\n",
       "      <td>NaN</td>\n",
       "      <td>41.95469</td>\n",
       "      <td>-87.800991</td>\n",
       "      <td>1.0</td>\n",
       "      <td>CULEX RESTUANS</td>\n",
       "      <td>...</td>\n",
       "      <td>BR HZ</td>\n",
       "      <td>0</td>\n",
       "      <td>M</td>\n",
       "      <td>0.0</td>\n",
       "      <td>0.00</td>\n",
       "      <td>29.39</td>\n",
       "      <td>30.11</td>\n",
       "      <td>5.8</td>\n",
       "      <td>18</td>\n",
       "      <td>6.5</td>\n",
       "    </tr>\n",
       "  </tbody>\n",
       "</table>\n",
       "<p>2 rows × 34 columns</p>\n",
       "</div>"
      ],
      "text/plain": [
       "                                             Address  AddressAccuracy  \\\n",
       "0  4100 North Oak Park Avenue, Chicago, IL 60634,...                9   \n",
       "1  4100 North Oak Park Avenue, Chicago, IL 60634,...                9   \n",
       "\n",
       "              AddressNumberAndStreet  Block        Date  Id  Latitude  \\\n",
       "0  4100  N OAK PARK AVE, Chicago, IL     41  2007-05-29 NaN  41.95469   \n",
       "1  4100  N OAK PARK AVE, Chicago, IL     41  2007-05-29 NaN  41.95469   \n",
       "\n",
       "   Longitude  NumMosquitos                 Species   ...    CodeSum Depth  \\\n",
       "0 -87.800991           1.0  CULEX PIPIENS/RESTUANS   ...      BR HZ     0   \n",
       "1 -87.800991           1.0          CULEX RESTUANS   ...      BR HZ     0   \n",
       "\n",
       "   Water1  SnowFall  PrecipTotal  StnPressure SeaLevel ResultSpeed  ResultDir  \\\n",
       "0       M       0.0         0.00        29.39    30.11         5.8         18   \n",
       "1       M       0.0         0.00        29.39    30.11         5.8         18   \n",
       "\n",
       "  AvgSpeed  \n",
       "0      6.5  \n",
       "1      6.5  \n",
       "\n",
       "[2 rows x 34 columns]"
      ]
     },
     "execution_count": 723,
     "metadata": {},
     "output_type": "execute_result"
    }
   ],
   "source": [
    "both.head(2)"
   ]
  },
  {
   "cell_type": "code",
   "execution_count": 724,
   "metadata": {
    "scrolled": false
   },
   "outputs": [
    {
     "data": {
      "text/plain": [
       "Index(['Address', 'AddressAccuracy', 'AddressNumberAndStreet', 'Block', 'Date',\n",
       "       'Id', 'Latitude', 'Longitude', 'NumMosquitos', 'Species', 'Street',\n",
       "       'Trap', 'WnvPresent', 'Station', 'Tmax', 'Tmin', 'Tavg', 'Depart',\n",
       "       'DewPoint', 'WetBulb', 'Heat', 'Cool', 'Sunrise', 'Sunset', 'CodeSum',\n",
       "       'Depth', 'Water1', 'SnowFall', 'PrecipTotal', 'StnPressure', 'SeaLevel',\n",
       "       'ResultSpeed', 'ResultDir', 'AvgSpeed'],\n",
       "      dtype='object')"
      ]
     },
     "execution_count": 724,
     "metadata": {},
     "output_type": "execute_result"
    }
   ],
   "source": [
    "both.columns"
   ]
  },
  {
   "cell_type": "code",
   "execution_count": 725,
   "metadata": {
    "scrolled": false
   },
   "outputs": [
    {
     "data": {
      "text/html": [
       "<div>\n",
       "<style scoped>\n",
       "    .dataframe tbody tr th:only-of-type {\n",
       "        vertical-align: middle;\n",
       "    }\n",
       "\n",
       "    .dataframe tbody tr th {\n",
       "        vertical-align: top;\n",
       "    }\n",
       "\n",
       "    .dataframe thead th {\n",
       "        text-align: right;\n",
       "    }\n",
       "</style>\n",
       "<table border=\"1\" class=\"dataframe\">\n",
       "  <thead>\n",
       "    <tr style=\"text-align: right;\">\n",
       "      <th></th>\n",
       "      <th>Address</th>\n",
       "      <th>AddressNumberAndStreet</th>\n",
       "      <th>Block</th>\n",
       "      <th>Latitude</th>\n",
       "      <th>Longitude</th>\n",
       "      <th>Street</th>\n",
       "      <th>AddressAccuracy</th>\n",
       "      <th>Station</th>\n",
       "    </tr>\n",
       "  </thead>\n",
       "  <tbody>\n",
       "    <tr>\n",
       "      <th>0</th>\n",
       "      <td>4100 North Oak Park Avenue, Chicago, IL 60634,...</td>\n",
       "      <td>4100  N OAK PARK AVE, Chicago, IL</td>\n",
       "      <td>41</td>\n",
       "      <td>41.954690</td>\n",
       "      <td>-87.800991</td>\n",
       "      <td>N OAK PARK AVE</td>\n",
       "      <td>9</td>\n",
       "      <td>1</td>\n",
       "    </tr>\n",
       "    <tr>\n",
       "      <th>1</th>\n",
       "      <td>4100 North Oak Park Avenue, Chicago, IL 60634,...</td>\n",
       "      <td>4100  N OAK PARK AVE, Chicago, IL</td>\n",
       "      <td>41</td>\n",
       "      <td>41.954690</td>\n",
       "      <td>-87.800991</td>\n",
       "      <td>N OAK PARK AVE</td>\n",
       "      <td>9</td>\n",
       "      <td>1</td>\n",
       "    </tr>\n",
       "    <tr>\n",
       "      <th>2</th>\n",
       "      <td>6200 North Mandell Avenue, Chicago, IL 60646, USA</td>\n",
       "      <td>6200  N MANDELL AVE, Chicago, IL</td>\n",
       "      <td>62</td>\n",
       "      <td>41.994991</td>\n",
       "      <td>-87.769279</td>\n",
       "      <td>N MANDELL AVE</td>\n",
       "      <td>9</td>\n",
       "      <td>1</td>\n",
       "    </tr>\n",
       "    <tr>\n",
       "      <th>3</th>\n",
       "      <td>7900 West Foster Avenue, Chicago, IL 60656, USA</td>\n",
       "      <td>7900  W FOSTER AVE, Chicago, IL</td>\n",
       "      <td>79</td>\n",
       "      <td>41.974089</td>\n",
       "      <td>-87.824812</td>\n",
       "      <td>W FOSTER AVE</td>\n",
       "      <td>8</td>\n",
       "      <td>1</td>\n",
       "    </tr>\n",
       "    <tr>\n",
       "      <th>4</th>\n",
       "      <td>7900 West Foster Avenue, Chicago, IL 60656, USA</td>\n",
       "      <td>7900  W FOSTER AVE, Chicago, IL</td>\n",
       "      <td>79</td>\n",
       "      <td>41.974089</td>\n",
       "      <td>-87.824812</td>\n",
       "      <td>W FOSTER AVE</td>\n",
       "      <td>8</td>\n",
       "      <td>1</td>\n",
       "    </tr>\n",
       "  </tbody>\n",
       "</table>\n",
       "</div>"
      ],
      "text/plain": [
       "                                             Address  \\\n",
       "0  4100 North Oak Park Avenue, Chicago, IL 60634,...   \n",
       "1  4100 North Oak Park Avenue, Chicago, IL 60634,...   \n",
       "2  6200 North Mandell Avenue, Chicago, IL 60646, USA   \n",
       "3    7900 West Foster Avenue, Chicago, IL 60656, USA   \n",
       "4    7900 West Foster Avenue, Chicago, IL 60656, USA   \n",
       "\n",
       "              AddressNumberAndStreet  Block   Latitude  Longitude  \\\n",
       "0  4100  N OAK PARK AVE, Chicago, IL     41  41.954690 -87.800991   \n",
       "1  4100  N OAK PARK AVE, Chicago, IL     41  41.954690 -87.800991   \n",
       "2   6200  N MANDELL AVE, Chicago, IL     62  41.994991 -87.769279   \n",
       "3    7900  W FOSTER AVE, Chicago, IL     79  41.974089 -87.824812   \n",
       "4    7900  W FOSTER AVE, Chicago, IL     79  41.974089 -87.824812   \n",
       "\n",
       "            Street  AddressAccuracy  Station  \n",
       "0   N OAK PARK AVE                9        1  \n",
       "1   N OAK PARK AVE                9        1  \n",
       "2    N MANDELL AVE                9        1  \n",
       "3     W FOSTER AVE                8        1  \n",
       "4     W FOSTER AVE                8        1  "
      ]
     },
     "execution_count": 725,
     "metadata": {},
     "output_type": "execute_result"
    }
   ],
   "source": [
    "both[['Address', 'AddressNumberAndStreet', 'Block', 'Latitude', 'Longitude', 'Street', 'AddressAccuracy', 'Station']].head()"
   ]
  },
  {
   "cell_type": "code",
   "execution_count": 726,
   "metadata": {},
   "outputs": [],
   "source": [
    "# drop unnecessary columns\n",
    "both.drop(['Address', 'AddressNumberAndStreet','Latitude', 'Longitude','NumMosquitos','Street'], axis=1, inplace=True)"
   ]
  },
  {
   "cell_type": "code",
   "execution_count": 727,
   "metadata": {
    "scrolled": false
   },
   "outputs": [
    {
     "data": {
      "text/plain": [
       "Index(['AddressAccuracy', 'Block', 'Date', 'Id', 'Species', 'Trap',\n",
       "       'WnvPresent', 'Station', 'Tmax', 'Tmin', 'Tavg', 'Depart', 'DewPoint',\n",
       "       'WetBulb', 'Heat', 'Cool', 'Sunrise', 'Sunset', 'CodeSum', 'Depth',\n",
       "       'Water1', 'SnowFall', 'PrecipTotal', 'StnPressure', 'SeaLevel',\n",
       "       'ResultSpeed', 'ResultDir', 'AvgSpeed'],\n",
       "      dtype='object')"
      ]
     },
     "execution_count": 727,
     "metadata": {},
     "output_type": "execute_result"
    }
   ],
   "source": [
    "both.columns"
   ]
  },
  {
   "cell_type": "code",
   "execution_count": 728,
   "metadata": {},
   "outputs": [
    {
     "data": {
      "text/html": [
       "<div>\n",
       "<style scoped>\n",
       "    .dataframe tbody tr th:only-of-type {\n",
       "        vertical-align: middle;\n",
       "    }\n",
       "\n",
       "    .dataframe tbody tr th {\n",
       "        vertical-align: top;\n",
       "    }\n",
       "\n",
       "    .dataframe thead th {\n",
       "        text-align: right;\n",
       "    }\n",
       "</style>\n",
       "<table border=\"1\" class=\"dataframe\">\n",
       "  <thead>\n",
       "    <tr style=\"text-align: right;\">\n",
       "      <th></th>\n",
       "      <th>AddressAccuracy</th>\n",
       "      <th>Block</th>\n",
       "      <th>Date</th>\n",
       "      <th>Id</th>\n",
       "      <th>Species</th>\n",
       "      <th>Trap</th>\n",
       "      <th>WnvPresent</th>\n",
       "      <th>Station</th>\n",
       "      <th>Tmax</th>\n",
       "      <th>Tmin</th>\n",
       "      <th>...</th>\n",
       "      <th>CodeSum</th>\n",
       "      <th>Depth</th>\n",
       "      <th>Water1</th>\n",
       "      <th>SnowFall</th>\n",
       "      <th>PrecipTotal</th>\n",
       "      <th>StnPressure</th>\n",
       "      <th>SeaLevel</th>\n",
       "      <th>ResultSpeed</th>\n",
       "      <th>ResultDir</th>\n",
       "      <th>AvgSpeed</th>\n",
       "    </tr>\n",
       "  </thead>\n",
       "  <tbody>\n",
       "    <tr>\n",
       "      <th>0</th>\n",
       "      <td>9</td>\n",
       "      <td>41</td>\n",
       "      <td>2007-05-29</td>\n",
       "      <td>NaN</td>\n",
       "      <td>CULEX PIPIENS/RESTUANS</td>\n",
       "      <td>T002</td>\n",
       "      <td>0.0</td>\n",
       "      <td>1</td>\n",
       "      <td>88</td>\n",
       "      <td>60</td>\n",
       "      <td>...</td>\n",
       "      <td>BR HZ</td>\n",
       "      <td>0</td>\n",
       "      <td>M</td>\n",
       "      <td>0.0</td>\n",
       "      <td>0.00</td>\n",
       "      <td>29.39</td>\n",
       "      <td>30.11</td>\n",
       "      <td>5.8</td>\n",
       "      <td>18</td>\n",
       "      <td>6.5</td>\n",
       "    </tr>\n",
       "    <tr>\n",
       "      <th>1</th>\n",
       "      <td>9</td>\n",
       "      <td>41</td>\n",
       "      <td>2007-05-29</td>\n",
       "      <td>NaN</td>\n",
       "      <td>CULEX RESTUANS</td>\n",
       "      <td>T002</td>\n",
       "      <td>0.0</td>\n",
       "      <td>1</td>\n",
       "      <td>88</td>\n",
       "      <td>60</td>\n",
       "      <td>...</td>\n",
       "      <td>BR HZ</td>\n",
       "      <td>0</td>\n",
       "      <td>M</td>\n",
       "      <td>0.0</td>\n",
       "      <td>0.00</td>\n",
       "      <td>29.39</td>\n",
       "      <td>30.11</td>\n",
       "      <td>5.8</td>\n",
       "      <td>18</td>\n",
       "      <td>6.5</td>\n",
       "    </tr>\n",
       "  </tbody>\n",
       "</table>\n",
       "<p>2 rows × 28 columns</p>\n",
       "</div>"
      ],
      "text/plain": [
       "   AddressAccuracy  Block        Date  Id                 Species  Trap  \\\n",
       "0                9     41  2007-05-29 NaN  CULEX PIPIENS/RESTUANS  T002   \n",
       "1                9     41  2007-05-29 NaN          CULEX RESTUANS  T002   \n",
       "\n",
       "   WnvPresent  Station  Tmax  Tmin   ...    CodeSum Depth  Water1 SnowFall  \\\n",
       "0         0.0        1    88    60   ...      BR HZ     0       M      0.0   \n",
       "1         0.0        1    88    60   ...      BR HZ     0       M      0.0   \n",
       "\n",
       "  PrecipTotal StnPressure SeaLevel ResultSpeed ResultDir AvgSpeed  \n",
       "0        0.00       29.39    30.11         5.8        18      6.5  \n",
       "1        0.00       29.39    30.11         5.8        18      6.5  \n",
       "\n",
       "[2 rows x 28 columns]"
      ]
     },
     "execution_count": 728,
     "metadata": {},
     "output_type": "execute_result"
    }
   ],
   "source": [
    "both.head(2)"
   ]
  },
  {
   "cell_type": "markdown",
   "metadata": {},
   "source": [
    "#### 3- Univariable (Target) Study:"
   ]
  },
  {
   "cell_type": "code",
   "execution_count": 729,
   "metadata": {
    "scrolled": true
   },
   "outputs": [
    {
     "data": {
      "text/plain": [
       "count    10506.000000\n",
       "mean         0.052446\n",
       "std          0.222936\n",
       "min          0.000000\n",
       "25%          0.000000\n",
       "50%          0.000000\n",
       "75%          0.000000\n",
       "max          1.000000\n",
       "Name: WnvPresent, dtype: float64"
      ]
     },
     "execution_count": 729,
     "metadata": {},
     "output_type": "execute_result"
    }
   ],
   "source": [
    "# target - WnvPresent \n",
    "train_data.WnvPresent.describe()"
   ]
  },
  {
   "cell_type": "code",
   "execution_count": 730,
   "metadata": {
    "scrolled": false
   },
   "outputs": [
    {
     "data": {
      "text/plain": [
       "0    9955\n",
       "1     551\n",
       "Name: WnvPresent, dtype: int64"
      ]
     },
     "execution_count": 730,
     "metadata": {},
     "output_type": "execute_result"
    }
   ],
   "source": [
    "# our target as zeros and ones\n",
    "train_data.WnvPresent.value_counts()"
   ]
  },
  {
   "cell_type": "markdown",
   "metadata": {},
   "source": [
    "#### 3- Multivariate Study:"
   ]
  },
  {
   "cell_type": "code",
   "execution_count": 731,
   "metadata": {
    "scrolled": true
   },
   "outputs": [
    {
     "data": {
      "image/png": "[encoded data removed]",
      "text/plain": [
       "<Figure size 432x288 with 1 Axes>"
      ]
     },
     "metadata": {},
     "output_type": "display_data"
    }
   ],
   "source": [
    "# check overlap locations using Longitude, Latitude for train and test set\n",
    "plt.plot(test_data['Latitude'],test_data['Longitude'],'bo',label='test',alpha=0.5);\n",
    "plt.plot(train_data['Latitude'],train_data['Longitude'],'ro',label='train',alpha=0.5);\n",
    "plt.xlabel('Latitude')\n",
    "plt.ylabel('Longitude')\n",
    "plt.title('Overlap Locations between train and test')\n",
    "plt.legend();"
   ]
  },
  {
   "cell_type": "code",
   "execution_count": 732,
   "metadata": {},
   "outputs": [],
   "source": [
    "# plot usefull graphs\n",
    "def plotGroupedBy(col):\n",
    "    wnv_present = train_data.groupby([col]).sum()['WnvPresent'] > 0\n",
    "    present_counts = train_data.groupby([col]).count()['WnvPresent'][wnv_present].get_values()\n",
    "    npresent_counts = train_data.groupby([col]).count()['WnvPresent'][-wnv_present].get_values()\n",
    "    plt.hist([present_counts,npresent_counts], 50, stacked=True,label=['present','not present'])\n",
    "    plt.legend();"
   ]
  },
  {
   "cell_type": "code",
   "execution_count": 733,
   "metadata": {
    "scrolled": true
   },
   "outputs": [
    {
     "data": {
      "image/png": "[encoded data removed]",
      "text/plain": [
       "<Figure size 576x432 with 1 Axes>"
      ]
     },
     "metadata": {},
     "output_type": "display_data"
    }
   ],
   "source": [
    "plt.figure(figsize=(8,6));\n",
    "plotGroupedBy('Address');\n",
    "plt.title('grouped by address');\n",
    "plt.xlabel('Multiple address count');\n",
    "plt.ylabel('Count');"
   ]
  },
  {
   "cell_type": "code",
   "execution_count": 734,
   "metadata": {},
   "outputs": [],
   "source": [
    "##### Here remaining graphs"
   ]
  },
  {
   "cell_type": "markdown",
   "metadata": {},
   "source": [
    "## Step 2: Cleaning and Manipulate the dataframe"
   ]
  },
  {
   "cell_type": "markdown",
   "metadata": {},
   "source": [
    "### 1- Check Missing values:"
   ]
  },
  {
   "cell_type": "markdown",
   "metadata": {},
   "source": [
    "- Change type of some numerical feaures that are really categorical"
   ]
  },
  {
   "cell_type": "code",
   "execution_count": 735,
   "metadata": {},
   "outputs": [
    {
     "data": {
      "text/plain": [
       "AddressAccuracy         0\n",
       "Block                   0\n",
       "Date                    0\n",
       "Id                  10506\n",
       "Species                 0\n",
       "Trap                    0\n",
       "WnvPresent         116293\n",
       "Station                 0\n",
       "Tmax                    0\n",
       "Tmin                    0\n",
       "Tavg                    0\n",
       "Depart                  0\n",
       "DewPoint                0\n",
       "WetBulb                 0\n",
       "Heat                    0\n",
       "Cool                    0\n",
       "Sunrise                 0\n",
       "Sunset                  0\n",
       "CodeSum                 0\n",
       "Depth                   0\n",
       "Water1                  0\n",
       "SnowFall                0\n",
       "PrecipTotal             0\n",
       "StnPressure             0\n",
       "SeaLevel                0\n",
       "ResultSpeed             0\n",
       "ResultDir               0\n",
       "AvgSpeed                0\n",
       "dtype: int64"
      ]
     },
     "execution_count": 735,
     "metadata": {},
     "output_type": "execute_result"
    }
   ],
   "source": [
    "# check which columns are missing\n",
    "both.isnull().sum() \n",
    "# missing id : id for trainset\n",
    "# missing WnvPresent : target for testset"
   ]
  },
  {
   "cell_type": "code",
   "execution_count": 736,
   "metadata": {
    "scrolled": false
   },
   "outputs": [
    {
     "data": {
      "text/plain": [
       "AddressAccuracy      int64\n",
       "Block                int64\n",
       "Date                object\n",
       "Id                 float64\n",
       "Species             object\n",
       "Trap                object\n",
       "WnvPresent         float64\n",
       "Station              int64\n",
       "Tmax                 int64\n",
       "Tmin                 int64\n",
       "Tavg                object\n",
       "Depart              object\n",
       "DewPoint             int64\n",
       "WetBulb             object\n",
       "Heat                object\n",
       "Cool                object\n",
       "Sunrise             object\n",
       "Sunset              object\n",
       "CodeSum             object\n",
       "Depth               object\n",
       "Water1              object\n",
       "SnowFall            object\n",
       "PrecipTotal         object\n",
       "StnPressure         object\n",
       "SeaLevel            object\n",
       "ResultSpeed        float64\n",
       "ResultDir            int64\n",
       "AvgSpeed            object\n",
       "dtype: object"
      ]
     },
     "execution_count": 736,
     "metadata": {},
     "output_type": "execute_result"
    }
   ],
   "source": [
    "both.dtypes"
   ]
  },
  {
   "cell_type": "code",
   "execution_count": 737,
   "metadata": {},
   "outputs": [
    {
     "data": {
      "text/html": [
       "<div>\n",
       "<style scoped>\n",
       "    .dataframe tbody tr th:only-of-type {\n",
       "        vertical-align: middle;\n",
       "    }\n",
       "\n",
       "    .dataframe tbody tr th {\n",
       "        vertical-align: top;\n",
       "    }\n",
       "\n",
       "    .dataframe thead th {\n",
       "        text-align: right;\n",
       "    }\n",
       "</style>\n",
       "<table border=\"1\" class=\"dataframe\">\n",
       "  <thead>\n",
       "    <tr style=\"text-align: right;\">\n",
       "      <th></th>\n",
       "      <th>DewPoint</th>\n",
       "      <th>WetBulb</th>\n",
       "      <th>Heat</th>\n",
       "      <th>Cool</th>\n",
       "      <th>Sunrise</th>\n",
       "      <th>Sunset</th>\n",
       "      <th>CodeSum</th>\n",
       "      <th>Depth</th>\n",
       "      <th>Water1</th>\n",
       "      <th>SnowFall</th>\n",
       "      <th>PrecipTotal</th>\n",
       "      <th>StnPressure</th>\n",
       "      <th>SeaLevel</th>\n",
       "      <th>ResultSpeed</th>\n",
       "      <th>ResultDir</th>\n",
       "      <th>AvgSpeed</th>\n",
       "    </tr>\n",
       "  </thead>\n",
       "  <tbody>\n",
       "    <tr>\n",
       "      <th>0</th>\n",
       "      <td>58</td>\n",
       "      <td>65</td>\n",
       "      <td>0</td>\n",
       "      <td>9</td>\n",
       "      <td>0421</td>\n",
       "      <td>1917</td>\n",
       "      <td>BR HZ</td>\n",
       "      <td>0</td>\n",
       "      <td>M</td>\n",
       "      <td>0.0</td>\n",
       "      <td>0.00</td>\n",
       "      <td>29.39</td>\n",
       "      <td>30.11</td>\n",
       "      <td>5.8</td>\n",
       "      <td>18</td>\n",
       "      <td>6.5</td>\n",
       "    </tr>\n",
       "    <tr>\n",
       "      <th>1</th>\n",
       "      <td>58</td>\n",
       "      <td>65</td>\n",
       "      <td>0</td>\n",
       "      <td>9</td>\n",
       "      <td>0421</td>\n",
       "      <td>1917</td>\n",
       "      <td>BR HZ</td>\n",
       "      <td>0</td>\n",
       "      <td>M</td>\n",
       "      <td>0.0</td>\n",
       "      <td>0.00</td>\n",
       "      <td>29.39</td>\n",
       "      <td>30.11</td>\n",
       "      <td>5.8</td>\n",
       "      <td>18</td>\n",
       "      <td>6.5</td>\n",
       "    </tr>\n",
       "    <tr>\n",
       "      <th>2</th>\n",
       "      <td>58</td>\n",
       "      <td>65</td>\n",
       "      <td>0</td>\n",
       "      <td>9</td>\n",
       "      <td>0421</td>\n",
       "      <td>1917</td>\n",
       "      <td>BR HZ</td>\n",
       "      <td>0</td>\n",
       "      <td>M</td>\n",
       "      <td>0.0</td>\n",
       "      <td>0.00</td>\n",
       "      <td>29.39</td>\n",
       "      <td>30.11</td>\n",
       "      <td>5.8</td>\n",
       "      <td>18</td>\n",
       "      <td>6.5</td>\n",
       "    </tr>\n",
       "    <tr>\n",
       "      <th>3</th>\n",
       "      <td>58</td>\n",
       "      <td>65</td>\n",
       "      <td>0</td>\n",
       "      <td>9</td>\n",
       "      <td>0421</td>\n",
       "      <td>1917</td>\n",
       "      <td>BR HZ</td>\n",
       "      <td>0</td>\n",
       "      <td>M</td>\n",
       "      <td>0.0</td>\n",
       "      <td>0.00</td>\n",
       "      <td>29.39</td>\n",
       "      <td>30.11</td>\n",
       "      <td>5.8</td>\n",
       "      <td>18</td>\n",
       "      <td>6.5</td>\n",
       "    </tr>\n",
       "    <tr>\n",
       "      <th>4</th>\n",
       "      <td>58</td>\n",
       "      <td>65</td>\n",
       "      <td>0</td>\n",
       "      <td>9</td>\n",
       "      <td>0421</td>\n",
       "      <td>1917</td>\n",
       "      <td>BR HZ</td>\n",
       "      <td>0</td>\n",
       "      <td>M</td>\n",
       "      <td>0.0</td>\n",
       "      <td>0.00</td>\n",
       "      <td>29.39</td>\n",
       "      <td>30.11</td>\n",
       "      <td>5.8</td>\n",
       "      <td>18</td>\n",
       "      <td>6.5</td>\n",
       "    </tr>\n",
       "  </tbody>\n",
       "</table>\n",
       "</div>"
      ],
      "text/plain": [
       "   DewPoint WetBulb Heat Cool Sunrise Sunset CodeSum Depth Water1 SnowFall  \\\n",
       "0        58      65    0    9    0421   1917   BR HZ     0      M      0.0   \n",
       "1        58      65    0    9    0421   1917   BR HZ     0      M      0.0   \n",
       "2        58      65    0    9    0421   1917   BR HZ     0      M      0.0   \n",
       "3        58      65    0    9    0421   1917   BR HZ     0      M      0.0   \n",
       "4        58      65    0    9    0421   1917   BR HZ     0      M      0.0   \n",
       "\n",
       "  PrecipTotal StnPressure SeaLevel  ResultSpeed  ResultDir AvgSpeed  \n",
       "0        0.00       29.39    30.11          5.8         18      6.5  \n",
       "1        0.00       29.39    30.11          5.8         18      6.5  \n",
       "2        0.00       29.39    30.11          5.8         18      6.5  \n",
       "3        0.00       29.39    30.11          5.8         18      6.5  \n",
       "4        0.00       29.39    30.11          5.8         18      6.5  "
      ]
     },
     "execution_count": 737,
     "metadata": {},
     "output_type": "execute_result"
    }
   ],
   "source": [
    "both.iloc[:,12:].head()"
   ]
  },
  {
   "cell_type": "markdown",
   "metadata": {},
   "source": [
    "##### 1- Tavg"
   ]
  },
  {
   "cell_type": "code",
   "execution_count": 738,
   "metadata": {},
   "outputs": [
    {
     "data": {
      "text/plain": [
       "0"
      ]
     },
     "execution_count": 738,
     "metadata": {},
     "output_type": "execute_result"
    }
   ],
   "source": [
    "# check null Tavg\n",
    "len(both[both.Tavg == 'M'])"
   ]
  },
  {
   "cell_type": "code",
   "execution_count": 739,
   "metadata": {},
   "outputs": [],
   "source": [
    "# convert type to int\n",
    "both['Tavg'] = both['Tavg'].astype('int')"
   ]
  },
  {
   "cell_type": "markdown",
   "metadata": {},
   "source": [
    "##### 2- Depart, WetBulb, Heat, Cool, Depth, StnPressure, SeaLevel, AvgSpeed"
   ]
  },
  {
   "cell_type": "code",
   "execution_count": 740,
   "metadata": {},
   "outputs": [],
   "source": [
    "# Cleaning columns with the value 'M' by replacing it with NaN.\n",
    "both['Depart'] = pd.to_numeric(both['Depart'], errors='coerce', downcast='integer')\n",
    "both['WetBulb'] = pd.to_numeric(both['WetBulb'], errors='coerce', downcast='integer')\n",
    "both['Heat'] = pd.to_numeric(both['Heat'], errors='coerce', downcast='integer')\n",
    "both['Cool'] = pd.to_numeric(both['Cool'], errors='coerce', downcast='integer')\n",
    "both['Depth'] = pd.to_numeric(both['Depth'], errors='coerce', downcast='integer')\n",
    "both['StnPressure'] = pd.to_numeric(both['StnPressure'], errors='coerce', downcast='float')\n",
    "both['SeaLevel'] = pd.to_numeric(both['SeaLevel'], errors='coerce', downcast='float')\n",
    "both['AvgSpeed'] = pd.to_numeric(both['AvgSpeed'], errors='coerce', downcast='float')"
   ]
  },
  {
   "cell_type": "code",
   "execution_count": 741,
   "metadata": {
    "scrolled": false
   },
   "outputs": [
    {
     "data": {
      "text/plain": [
       "AddressAccuracy         0\n",
       "Block                   0\n",
       "Date                    0\n",
       "Id                  10506\n",
       "Species                 0\n",
       "Trap                    0\n",
       "WnvPresent         116293\n",
       "Station                 0\n",
       "Tmax                    0\n",
       "Tmin                    0\n",
       "Tavg                    0\n",
       "Depart              61753\n",
       "DewPoint                0\n",
       "WetBulb                61\n",
       "Heat                    0\n",
       "Cool                    0\n",
       "Sunrise                 0\n",
       "Sunset                  0\n",
       "CodeSum                 0\n",
       "Depth               61753\n",
       "Water1                  0\n",
       "SnowFall                0\n",
       "PrecipTotal             0\n",
       "StnPressure            61\n",
       "SeaLevel                0\n",
       "ResultSpeed             0\n",
       "ResultDir               0\n",
       "AvgSpeed                0\n",
       "dtype: int64"
      ]
     },
     "execution_count": 741,
     "metadata": {},
     "output_type": "execute_result"
    }
   ],
   "source": [
    "both.isnull().sum() "
   ]
  },
  {
   "cell_type": "code",
   "execution_count": 742,
   "metadata": {},
   "outputs": [],
   "source": [
    "# fill nulls\n",
    "#Forward filling\n",
    "both['Depart'].fillna(method='ffill', inplace=True)\n",
    "both['WetBulb'].fillna(method='ffill', inplace=True)\n",
    "both['Depth'].fillna(method='ffill', inplace=True)\n",
    "both['StnPressure'].fillna(method='ffill', inplace=True)"
   ]
  },
  {
   "cell_type": "markdown",
   "metadata": {},
   "source": [
    "##### 3- Water1"
   ]
  },
  {
   "cell_type": "code",
   "execution_count": 743,
   "metadata": {
    "scrolled": true
   },
   "outputs": [
    {
     "data": {
      "text/plain": [
       "(0, 28)"
      ]
     },
     "execution_count": 743,
     "metadata": {},
     "output_type": "execute_result"
    }
   ],
   "source": [
    "# check water value\n",
    "both[both.Water1 != 'M'].shape"
   ]
  },
  {
   "cell_type": "code",
   "execution_count": 744,
   "metadata": {},
   "outputs": [],
   "source": [
    "# Dropping column Water1 because the entire column has only value M.\n",
    "both = both.drop(columns='Water1')"
   ]
  },
  {
   "cell_type": "markdown",
   "metadata": {},
   "source": [
    "##### 4- Sunset, Sunrise"
   ]
  },
  {
   "cell_type": "code",
   "execution_count": 745,
   "metadata": {},
   "outputs": [],
   "source": [
    "# replace values '-' with Nan\n",
    "both['Sunset'] = both['Sunset'].apply(lambda x: np.nan if x == '-' else x)\n",
    "both['Sunrise'] = both['Sunrise'].apply(lambda x: np.nan if x == '-' else x)"
   ]
  },
  {
   "cell_type": "code",
   "execution_count": 746,
   "metadata": {},
   "outputs": [
    {
     "data": {
      "text/plain": [
       "61753"
      ]
     },
     "execution_count": 746,
     "metadata": {},
     "output_type": "execute_result"
    }
   ],
   "source": [
    "# check null values\n",
    "both['Sunset'].isnull().sum()"
   ]
  },
  {
   "cell_type": "code",
   "execution_count": 747,
   "metadata": {},
   "outputs": [],
   "source": [
    "#Forward filling\n",
    "both['Sunrise'].fillna(method='ffill', inplace=True)\n",
    "both['Sunset'].fillna(method='ffill', inplace=True)"
   ]
  },
  {
   "cell_type": "markdown",
   "metadata": {},
   "source": [
    "##### 5- SnowFall, PrecipTotal"
   ]
  },
  {
   "cell_type": "code",
   "execution_count": 748,
   "metadata": {
    "scrolled": true
   },
   "outputs": [
    {
     "data": {
      "text/plain": [
       "0.0    64319\n",
       "M      61753\n",
       "  T      727\n",
       "Name: SnowFall, dtype: int64"
      ]
     },
     "execution_count": 748,
     "metadata": {},
     "output_type": "execute_result"
    }
   ],
   "source": [
    "both['SnowFall'].value_counts()"
   ]
  },
  {
   "cell_type": "code",
   "execution_count": 749,
   "metadata": {},
   "outputs": [],
   "source": [
    "both['SnowFall'] = both['SnowFall'].apply(lambda x: np.nan if x == 'M' else x)\n",
    "both['SnowFall'] = both['SnowFall'].apply(lambda x: 0.005 if x == '  T' else x).astype('float')"
   ]
  },
  {
   "cell_type": "code",
   "execution_count": 750,
   "metadata": {},
   "outputs": [],
   "source": [
    "both['PrecipTotal'] = both['PrecipTotal'].apply(lambda x: np.nan if x == 'M' else x)\n",
    "both['PrecipTotal'] = both['PrecipTotal'].apply(lambda x: 0.005 if x == '  T' else x).astype('float')"
   ]
  },
  {
   "cell_type": "code",
   "execution_count": 751,
   "metadata": {},
   "outputs": [
    {
     "data": {
      "text/plain": [
       "AddressAccuracy         0\n",
       "Block                   0\n",
       "Date                    0\n",
       "Id                  10506\n",
       "Species                 0\n",
       "Trap                    0\n",
       "WnvPresent         116293\n",
       "Station                 0\n",
       "Tmax                    0\n",
       "Tmin                    0\n",
       "Tavg                    0\n",
       "Depart                  0\n",
       "DewPoint                0\n",
       "WetBulb                 0\n",
       "Heat                    0\n",
       "Cool                    0\n",
       "Sunrise                 0\n",
       "Sunset                  0\n",
       "CodeSum                 0\n",
       "Depth                   0\n",
       "SnowFall            61753\n",
       "PrecipTotal            11\n",
       "StnPressure             0\n",
       "SeaLevel                0\n",
       "ResultSpeed             0\n",
       "ResultDir               0\n",
       "AvgSpeed                0\n",
       "dtype: int64"
      ]
     },
     "execution_count": 751,
     "metadata": {},
     "output_type": "execute_result"
    }
   ],
   "source": [
    "both.isnull().sum() "
   ]
  },
  {
   "cell_type": "code",
   "execution_count": 752,
   "metadata": {},
   "outputs": [],
   "source": [
    "both['SnowFall'].fillna(method='ffill', inplace=True)\n",
    "both['PrecipTotal'].fillna(method='ffill', inplace=True)"
   ]
  },
  {
   "cell_type": "markdown",
   "metadata": {},
   "source": [
    "### 3- Features Engineering:"
   ]
  },
  {
   "cell_type": "markdown",
   "metadata": {},
   "source": [
    "- Convert 'Date column to date type"
   ]
  },
  {
   "cell_type": "code",
   "execution_count": 753,
   "metadata": {
    "scrolled": true
   },
   "outputs": [],
   "source": [
    "both['Date'] = pd.to_datetime(both['Date'])"
   ]
  },
  {
   "cell_type": "markdown",
   "metadata": {},
   "source": [
    "- Encode 'Codesum' which is a categorical features to seperated (binary) columns "
   ]
  },
  {
   "cell_type": "code",
   "execution_count": 754,
   "metadata": {
    "scrolled": false
   },
   "outputs": [
    {
     "data": {
      "text/plain": [
       "                         72391\n",
       "RA                       11206\n",
       "TSRA RA BR                8329\n",
       "RA BR                     4942\n",
       "BR HZ                     3292\n",
       "TS TSRA RA BR             2785\n",
       "TSRA RA                   2672\n",
       "BR                        2277\n",
       "TSRA                      1881\n",
       "TS RA                     1842\n",
       "TS TSRA RA                1829\n",
       "RA BR HZ                  1401\n",
       "TSRA BR                   1356\n",
       "RA DZ BR                  1314\n",
       "DZ BR                     1230\n",
       "TSRA RA BR HZ             1192\n",
       "HZ                        1071\n",
       "TS                         741\n",
       "TS BR                      727\n",
       "TSRA FG+ BR HZ             636\n",
       "BCFG BR                    628\n",
       "DZ                         608\n",
       "RA DZ                      600\n",
       "TSRA RA VCTS               592\n",
       "TSRA RA BR HZ VCTS         592\n",
       "TSRA RA DZ BR HZ            93\n",
       "VCTS                        83\n",
       "TSRA RA BR VCTS             80\n",
       "TS TSRA RA FG BR HZ         62\n",
       "TSRA BR HZ VCTS             56\n",
       "TS TSRA RA VCTS             54\n",
       "FG BR HZ                    52\n",
       "TS TSRA BR                  51\n",
       "TSRA HZ                     50\n",
       "TS TSRA RA BR HZ VCTS       49\n",
       "TSRA BR HZ                  23\n",
       "TS TSRA BR HZ               12\n",
       "Name: CodeSum, dtype: int64"
      ]
     },
     "execution_count": 754,
     "metadata": {},
     "output_type": "execute_result"
    }
   ],
   "source": [
    "both.CodeSum.value_counts()"
   ]
  },
  {
   "cell_type": "code",
   "execution_count": 755,
   "metadata": {},
   "outputs": [],
   "source": [
    "\n",
    "# codesum = ['+FC','FC','TS','GR','RA','DZ','SN','SG','GS','PL','IC','FG+','FG','BR','UP','HZ','FU','VA'\\\n",
    "#       ,'DU','DS','PO','SA','SS','PY','SQ','DR','SH','FZ','MI','PR','BC','BL','VC']"
   ]
  },
  {
   "cell_type": "code",
   "execution_count": 756,
   "metadata": {},
   "outputs": [],
   "source": [
    "# for code in codesum:\n",
    "#     for index, cell in enumerate(data_weather1['CodeSum']):\n",
    "#         if code in cell:\n",
    "#             new_col = 'CS_' + code\n",
    "#             data_weather1.loc[index, new_col] = 1"
   ]
  },
  {
   "cell_type": "code",
   "execution_count": 757,
   "metadata": {},
   "outputs": [],
   "source": [
    "# deside to drop them\n",
    "both = both.drop(columns=['CodeSum', 'Trap'])"
   ]
  },
  {
   "cell_type": "markdown",
   "metadata": {},
   "source": [
    "- Extracting the hour and min from ‘Sunrise’ and ‘Sunset’ into new columns"
   ]
  },
  {
   "cell_type": "code",
   "execution_count": 758,
   "metadata": {},
   "outputs": [],
   "source": [
    "both['Sunrise_hr'] = both['Sunrise'].apply(lambda x: int(str(x)[:2]))\n",
    "both['Sunrise_min'] = both['Sunrise'].apply(lambda x: int(str(x)[2:]))\n",
    "both['Sunset_hr'] = both['Sunset'].apply(lambda x: int(str(x)[:2]))\n",
    "both['Sunset_min'] = both['Sunset'].apply(lambda x: int(str(x)[2:]))"
   ]
  },
  {
   "cell_type": "code",
   "execution_count": 759,
   "metadata": {},
   "outputs": [],
   "source": [
    "both = both.drop(columns=['Sunset', 'Sunrise'])"
   ]
  },
  {
   "cell_type": "markdown",
   "metadata": {},
   "source": [
    "- Extracting the date, month, year from 'Date' into new columns"
   ]
  },
  {
   "cell_type": "code",
   "execution_count": 760,
   "metadata": {},
   "outputs": [],
   "source": [
    "both['Year'] = both['Date'].dt.year\n",
    "both['Month'] = both['Date'].dt.month\n",
    "both['Day'] = both['Date'].dt.day"
   ]
  },
  {
   "cell_type": "code",
   "execution_count": 761,
   "metadata": {},
   "outputs": [],
   "source": [
    "both = both.drop(columns='Date')"
   ]
  },
  {
   "cell_type": "code",
   "execution_count": 762,
   "metadata": {},
   "outputs": [
    {
     "data": {
      "text/html": [
       "<div>\n",
       "<style scoped>\n",
       "    .dataframe tbody tr th:only-of-type {\n",
       "        vertical-align: middle;\n",
       "    }\n",
       "\n",
       "    .dataframe tbody tr th {\n",
       "        vertical-align: top;\n",
       "    }\n",
       "\n",
       "    .dataframe thead th {\n",
       "        text-align: right;\n",
       "    }\n",
       "</style>\n",
       "<table border=\"1\" class=\"dataframe\">\n",
       "  <thead>\n",
       "    <tr style=\"text-align: right;\">\n",
       "      <th></th>\n",
       "      <th>AddressAccuracy</th>\n",
       "      <th>Block</th>\n",
       "      <th>Id</th>\n",
       "      <th>Species</th>\n",
       "      <th>WnvPresent</th>\n",
       "      <th>Station</th>\n",
       "      <th>Tmax</th>\n",
       "      <th>Tmin</th>\n",
       "      <th>Tavg</th>\n",
       "      <th>Depart</th>\n",
       "      <th>...</th>\n",
       "      <th>ResultSpeed</th>\n",
       "      <th>ResultDir</th>\n",
       "      <th>AvgSpeed</th>\n",
       "      <th>Sunrise_hr</th>\n",
       "      <th>Sunrise_min</th>\n",
       "      <th>Sunset_hr</th>\n",
       "      <th>Sunset_min</th>\n",
       "      <th>Year</th>\n",
       "      <th>Month</th>\n",
       "      <th>Day</th>\n",
       "    </tr>\n",
       "  </thead>\n",
       "  <tbody>\n",
       "    <tr>\n",
       "      <th>0</th>\n",
       "      <td>9</td>\n",
       "      <td>41</td>\n",
       "      <td>NaN</td>\n",
       "      <td>CULEX PIPIENS/RESTUANS</td>\n",
       "      <td>0.0</td>\n",
       "      <td>1</td>\n",
       "      <td>88</td>\n",
       "      <td>60</td>\n",
       "      <td>74</td>\n",
       "      <td>10.0</td>\n",
       "      <td>...</td>\n",
       "      <td>5.8</td>\n",
       "      <td>18</td>\n",
       "      <td>6.5</td>\n",
       "      <td>4</td>\n",
       "      <td>21</td>\n",
       "      <td>19</td>\n",
       "      <td>17</td>\n",
       "      <td>2007</td>\n",
       "      <td>5</td>\n",
       "      <td>29</td>\n",
       "    </tr>\n",
       "    <tr>\n",
       "      <th>1</th>\n",
       "      <td>9</td>\n",
       "      <td>41</td>\n",
       "      <td>NaN</td>\n",
       "      <td>CULEX RESTUANS</td>\n",
       "      <td>0.0</td>\n",
       "      <td>1</td>\n",
       "      <td>88</td>\n",
       "      <td>60</td>\n",
       "      <td>74</td>\n",
       "      <td>10.0</td>\n",
       "      <td>...</td>\n",
       "      <td>5.8</td>\n",
       "      <td>18</td>\n",
       "      <td>6.5</td>\n",
       "      <td>4</td>\n",
       "      <td>21</td>\n",
       "      <td>19</td>\n",
       "      <td>17</td>\n",
       "      <td>2007</td>\n",
       "      <td>5</td>\n",
       "      <td>29</td>\n",
       "    </tr>\n",
       "    <tr>\n",
       "      <th>2</th>\n",
       "      <td>9</td>\n",
       "      <td>62</td>\n",
       "      <td>NaN</td>\n",
       "      <td>CULEX RESTUANS</td>\n",
       "      <td>0.0</td>\n",
       "      <td>1</td>\n",
       "      <td>88</td>\n",
       "      <td>60</td>\n",
       "      <td>74</td>\n",
       "      <td>10.0</td>\n",
       "      <td>...</td>\n",
       "      <td>5.8</td>\n",
       "      <td>18</td>\n",
       "      <td>6.5</td>\n",
       "      <td>4</td>\n",
       "      <td>21</td>\n",
       "      <td>19</td>\n",
       "      <td>17</td>\n",
       "      <td>2007</td>\n",
       "      <td>5</td>\n",
       "      <td>29</td>\n",
       "    </tr>\n",
       "    <tr>\n",
       "      <th>3</th>\n",
       "      <td>8</td>\n",
       "      <td>79</td>\n",
       "      <td>NaN</td>\n",
       "      <td>CULEX PIPIENS/RESTUANS</td>\n",
       "      <td>0.0</td>\n",
       "      <td>1</td>\n",
       "      <td>88</td>\n",
       "      <td>60</td>\n",
       "      <td>74</td>\n",
       "      <td>10.0</td>\n",
       "      <td>...</td>\n",
       "      <td>5.8</td>\n",
       "      <td>18</td>\n",
       "      <td>6.5</td>\n",
       "      <td>4</td>\n",
       "      <td>21</td>\n",
       "      <td>19</td>\n",
       "      <td>17</td>\n",
       "      <td>2007</td>\n",
       "      <td>5</td>\n",
       "      <td>29</td>\n",
       "    </tr>\n",
       "    <tr>\n",
       "      <th>4</th>\n",
       "      <td>8</td>\n",
       "      <td>79</td>\n",
       "      <td>NaN</td>\n",
       "      <td>CULEX RESTUANS</td>\n",
       "      <td>0.0</td>\n",
       "      <td>1</td>\n",
       "      <td>88</td>\n",
       "      <td>60</td>\n",
       "      <td>74</td>\n",
       "      <td>10.0</td>\n",
       "      <td>...</td>\n",
       "      <td>5.8</td>\n",
       "      <td>18</td>\n",
       "      <td>6.5</td>\n",
       "      <td>4</td>\n",
       "      <td>21</td>\n",
       "      <td>19</td>\n",
       "      <td>17</td>\n",
       "      <td>2007</td>\n",
       "      <td>5</td>\n",
       "      <td>29</td>\n",
       "    </tr>\n",
       "  </tbody>\n",
       "</table>\n",
       "<p>5 rows × 29 columns</p>\n",
       "</div>"
      ],
      "text/plain": [
       "   AddressAccuracy  Block  Id                 Species  WnvPresent  Station  \\\n",
       "0                9     41 NaN  CULEX PIPIENS/RESTUANS         0.0        1   \n",
       "1                9     41 NaN          CULEX RESTUANS         0.0        1   \n",
       "2                9     62 NaN          CULEX RESTUANS         0.0        1   \n",
       "3                8     79 NaN  CULEX PIPIENS/RESTUANS         0.0        1   \n",
       "4                8     79 NaN          CULEX RESTUANS         0.0        1   \n",
       "\n",
       "   Tmax  Tmin  Tavg  Depart ...   ResultSpeed  ResultDir  AvgSpeed  \\\n",
       "0    88    60    74    10.0 ...           5.8         18       6.5   \n",
       "1    88    60    74    10.0 ...           5.8         18       6.5   \n",
       "2    88    60    74    10.0 ...           5.8         18       6.5   \n",
       "3    88    60    74    10.0 ...           5.8         18       6.5   \n",
       "4    88    60    74    10.0 ...           5.8         18       6.5   \n",
       "\n",
       "   Sunrise_hr  Sunrise_min  Sunset_hr  Sunset_min  Year  Month  Day  \n",
       "0           4           21         19          17  2007      5   29  \n",
       "1           4           21         19          17  2007      5   29  \n",
       "2           4           21         19          17  2007      5   29  \n",
       "3           4           21         19          17  2007      5   29  \n",
       "4           4           21         19          17  2007      5   29  \n",
       "\n",
       "[5 rows x 29 columns]"
      ]
     },
     "execution_count": 762,
     "metadata": {},
     "output_type": "execute_result"
    }
   ],
   "source": [
    "both.head()"
   ]
  },
  {
   "cell_type": "markdown",
   "metadata": {},
   "source": [
    "- Getting dummy categorical features"
   ]
  },
  {
   "cell_type": "code",
   "execution_count": 763,
   "metadata": {
    "scrolled": false
   },
   "outputs": [
    {
     "data": {
      "text/plain": [
       "CULEX PIPIENS/RESTUANS    20111\n",
       "CULEX RESTUANS            17410\n",
       "CULEX PIPIENS             17220\n",
       "CULEX TERRITANS           14573\n",
       "CULEX SALINARIUS          14441\n",
       "CULEX TARSALIS            14353\n",
       "CULEX ERRATICUS           14346\n",
       "UNSPECIFIED CULEX         14345\n",
       "Name: Species, dtype: int64"
      ]
     },
     "execution_count": 763,
     "metadata": {},
     "output_type": "execute_result"
    }
   ],
   "source": [
    "both.Species.value_counts()"
   ]
  },
  {
   "cell_type": "code",
   "execution_count": 764,
   "metadata": {},
   "outputs": [],
   "source": [
    "both = pd.get_dummies(data=both, columns=['Species'])"
   ]
  },
  {
   "cell_type": "code",
   "execution_count": 765,
   "metadata": {},
   "outputs": [
    {
     "data": {
      "text/html": [
       "<div>\n",
       "<style scoped>\n",
       "    .dataframe tbody tr th:only-of-type {\n",
       "        vertical-align: middle;\n",
       "    }\n",
       "\n",
       "    .dataframe tbody tr th {\n",
       "        vertical-align: top;\n",
       "    }\n",
       "\n",
       "    .dataframe thead th {\n",
       "        text-align: right;\n",
       "    }\n",
       "</style>\n",
       "<table border=\"1\" class=\"dataframe\">\n",
       "  <thead>\n",
       "    <tr style=\"text-align: right;\">\n",
       "      <th></th>\n",
       "      <th>AddressAccuracy</th>\n",
       "      <th>Block</th>\n",
       "      <th>Id</th>\n",
       "      <th>WnvPresent</th>\n",
       "      <th>Station</th>\n",
       "      <th>Tmax</th>\n",
       "      <th>Tmin</th>\n",
       "      <th>Tavg</th>\n",
       "      <th>Depart</th>\n",
       "      <th>DewPoint</th>\n",
       "      <th>...</th>\n",
       "      <th>Month</th>\n",
       "      <th>Day</th>\n",
       "      <th>Species_CULEX ERRATICUS</th>\n",
       "      <th>Species_CULEX PIPIENS</th>\n",
       "      <th>Species_CULEX PIPIENS/RESTUANS</th>\n",
       "      <th>Species_CULEX RESTUANS</th>\n",
       "      <th>Species_CULEX SALINARIUS</th>\n",
       "      <th>Species_CULEX TARSALIS</th>\n",
       "      <th>Species_CULEX TERRITANS</th>\n",
       "      <th>Species_UNSPECIFIED CULEX</th>\n",
       "    </tr>\n",
       "  </thead>\n",
       "  <tbody>\n",
       "    <tr>\n",
       "      <th>0</th>\n",
       "      <td>9</td>\n",
       "      <td>41</td>\n",
       "      <td>NaN</td>\n",
       "      <td>0.0</td>\n",
       "      <td>1</td>\n",
       "      <td>88</td>\n",
       "      <td>60</td>\n",
       "      <td>74</td>\n",
       "      <td>10.0</td>\n",
       "      <td>58</td>\n",
       "      <td>...</td>\n",
       "      <td>5</td>\n",
       "      <td>29</td>\n",
       "      <td>0</td>\n",
       "      <td>0</td>\n",
       "      <td>1</td>\n",
       "      <td>0</td>\n",
       "      <td>0</td>\n",
       "      <td>0</td>\n",
       "      <td>0</td>\n",
       "      <td>0</td>\n",
       "    </tr>\n",
       "    <tr>\n",
       "      <th>1</th>\n",
       "      <td>9</td>\n",
       "      <td>41</td>\n",
       "      <td>NaN</td>\n",
       "      <td>0.0</td>\n",
       "      <td>1</td>\n",
       "      <td>88</td>\n",
       "      <td>60</td>\n",
       "      <td>74</td>\n",
       "      <td>10.0</td>\n",
       "      <td>58</td>\n",
       "      <td>...</td>\n",
       "      <td>5</td>\n",
       "      <td>29</td>\n",
       "      <td>0</td>\n",
       "      <td>0</td>\n",
       "      <td>0</td>\n",
       "      <td>1</td>\n",
       "      <td>0</td>\n",
       "      <td>0</td>\n",
       "      <td>0</td>\n",
       "      <td>0</td>\n",
       "    </tr>\n",
       "  </tbody>\n",
       "</table>\n",
       "<p>2 rows × 36 columns</p>\n",
       "</div>"
      ],
      "text/plain": [
       "   AddressAccuracy  Block  Id  WnvPresent  Station  Tmax  Tmin  Tavg  Depart  \\\n",
       "0                9     41 NaN         0.0        1    88    60    74    10.0   \n",
       "1                9     41 NaN         0.0        1    88    60    74    10.0   \n",
       "\n",
       "   DewPoint            ...              Month  Day  Species_CULEX ERRATICUS  \\\n",
       "0        58            ...                  5   29                        0   \n",
       "1        58            ...                  5   29                        0   \n",
       "\n",
       "   Species_CULEX PIPIENS  Species_CULEX PIPIENS/RESTUANS  \\\n",
       "0                      0                               1   \n",
       "1                      0                               0   \n",
       "\n",
       "   Species_CULEX RESTUANS  Species_CULEX SALINARIUS  Species_CULEX TARSALIS  \\\n",
       "0                       0                         0                       0   \n",
       "1                       1                         0                       0   \n",
       "\n",
       "   Species_CULEX TERRITANS  Species_UNSPECIFIED CULEX  \n",
       "0                        0                          0  \n",
       "1                        0                          0  \n",
       "\n",
       "[2 rows x 36 columns]"
      ]
     },
     "execution_count": 765,
     "metadata": {},
     "output_type": "execute_result"
    }
   ],
   "source": [
    "both.head(2)"
   ]
  },
  {
   "cell_type": "markdown",
   "metadata": {},
   "source": [
    "- Getting the new train and test sets and the target."
   ]
  },
  {
   "cell_type": "code",
   "execution_count": 766,
   "metadata": {
    "scrolled": false
   },
   "outputs": [
    {
     "data": {
      "text/html": [
       "<div>\n",
       "<style scoped>\n",
       "    .dataframe tbody tr th:only-of-type {\n",
       "        vertical-align: middle;\n",
       "    }\n",
       "\n",
       "    .dataframe tbody tr th {\n",
       "        vertical-align: top;\n",
       "    }\n",
       "\n",
       "    .dataframe thead th {\n",
       "        text-align: right;\n",
       "    }\n",
       "</style>\n",
       "<table border=\"1\" class=\"dataframe\">\n",
       "  <thead>\n",
       "    <tr style=\"text-align: right;\">\n",
       "      <th></th>\n",
       "      <th>AddressAccuracy</th>\n",
       "      <th>Block</th>\n",
       "      <th>Station</th>\n",
       "      <th>Tmax</th>\n",
       "      <th>Tmin</th>\n",
       "      <th>Tavg</th>\n",
       "      <th>Depart</th>\n",
       "      <th>DewPoint</th>\n",
       "      <th>WetBulb</th>\n",
       "      <th>Heat</th>\n",
       "      <th>...</th>\n",
       "      <th>Month</th>\n",
       "      <th>Day</th>\n",
       "      <th>Species_CULEX ERRATICUS</th>\n",
       "      <th>Species_CULEX PIPIENS</th>\n",
       "      <th>Species_CULEX PIPIENS/RESTUANS</th>\n",
       "      <th>Species_CULEX RESTUANS</th>\n",
       "      <th>Species_CULEX SALINARIUS</th>\n",
       "      <th>Species_CULEX TARSALIS</th>\n",
       "      <th>Species_CULEX TERRITANS</th>\n",
       "      <th>Species_UNSPECIFIED CULEX</th>\n",
       "    </tr>\n",
       "  </thead>\n",
       "  <tbody>\n",
       "    <tr>\n",
       "      <th>0</th>\n",
       "      <td>9</td>\n",
       "      <td>41</td>\n",
       "      <td>1</td>\n",
       "      <td>88</td>\n",
       "      <td>60</td>\n",
       "      <td>74</td>\n",
       "      <td>10.0</td>\n",
       "      <td>58</td>\n",
       "      <td>65.0</td>\n",
       "      <td>0</td>\n",
       "      <td>...</td>\n",
       "      <td>5</td>\n",
       "      <td>29</td>\n",
       "      <td>0</td>\n",
       "      <td>0</td>\n",
       "      <td>1</td>\n",
       "      <td>0</td>\n",
       "      <td>0</td>\n",
       "      <td>0</td>\n",
       "      <td>0</td>\n",
       "      <td>0</td>\n",
       "    </tr>\n",
       "    <tr>\n",
       "      <th>1</th>\n",
       "      <td>9</td>\n",
       "      <td>41</td>\n",
       "      <td>1</td>\n",
       "      <td>88</td>\n",
       "      <td>60</td>\n",
       "      <td>74</td>\n",
       "      <td>10.0</td>\n",
       "      <td>58</td>\n",
       "      <td>65.0</td>\n",
       "      <td>0</td>\n",
       "      <td>...</td>\n",
       "      <td>5</td>\n",
       "      <td>29</td>\n",
       "      <td>0</td>\n",
       "      <td>0</td>\n",
       "      <td>0</td>\n",
       "      <td>1</td>\n",
       "      <td>0</td>\n",
       "      <td>0</td>\n",
       "      <td>0</td>\n",
       "      <td>0</td>\n",
       "    </tr>\n",
       "  </tbody>\n",
       "</table>\n",
       "<p>2 rows × 34 columns</p>\n",
       "</div>"
      ],
      "text/plain": [
       "   AddressAccuracy  Block  Station  Tmax  Tmin  Tavg  Depart  DewPoint  \\\n",
       "0                9     41        1    88    60    74    10.0        58   \n",
       "1                9     41        1    88    60    74    10.0        58   \n",
       "\n",
       "   WetBulb  Heat            ...              Month  Day  \\\n",
       "0     65.0     0            ...                  5   29   \n",
       "1     65.0     0            ...                  5   29   \n",
       "\n",
       "   Species_CULEX ERRATICUS  Species_CULEX PIPIENS  \\\n",
       "0                        0                      0   \n",
       "1                        0                      0   \n",
       "\n",
       "   Species_CULEX PIPIENS/RESTUANS  Species_CULEX RESTUANS  \\\n",
       "0                               1                       0   \n",
       "1                               0                       1   \n",
       "\n",
       "   Species_CULEX SALINARIUS  Species_CULEX TARSALIS  Species_CULEX TERRITANS  \\\n",
       "0                         0                       0                        0   \n",
       "1                         0                       0                        0   \n",
       "\n",
       "   Species_UNSPECIFIED CULEX  \n",
       "0                          0  \n",
       "1                          0  \n",
       "\n",
       "[2 rows x 34 columns]"
      ]
     },
     "execution_count": 766,
     "metadata": {},
     "output_type": "execute_result"
    }
   ],
   "source": [
    "# train and target\n",
    "train = both.loc[train_index]\n",
    "y = train.WnvPresent\n",
    "train = train.drop(columns=['Id','WnvPresent'])\n",
    "train.head(2)"
   ]
  },
  {
   "cell_type": "code",
   "execution_count": 767,
   "metadata": {},
   "outputs": [
    {
     "data": {
      "text/html": [
       "<div>\n",
       "<style scoped>\n",
       "    .dataframe tbody tr th:only-of-type {\n",
       "        vertical-align: middle;\n",
       "    }\n",
       "\n",
       "    .dataframe tbody tr th {\n",
       "        vertical-align: top;\n",
       "    }\n",
       "\n",
       "    .dataframe thead th {\n",
       "        text-align: right;\n",
       "    }\n",
       "</style>\n",
       "<table border=\"1\" class=\"dataframe\">\n",
       "  <thead>\n",
       "    <tr style=\"text-align: right;\">\n",
       "      <th></th>\n",
       "      <th>AddressAccuracy</th>\n",
       "      <th>Block</th>\n",
       "      <th>Station</th>\n",
       "      <th>Tmax</th>\n",
       "      <th>Tmin</th>\n",
       "      <th>Tavg</th>\n",
       "      <th>Depart</th>\n",
       "      <th>DewPoint</th>\n",
       "      <th>WetBulb</th>\n",
       "      <th>Heat</th>\n",
       "      <th>...</th>\n",
       "      <th>Month</th>\n",
       "      <th>Day</th>\n",
       "      <th>Species_CULEX ERRATICUS</th>\n",
       "      <th>Species_CULEX PIPIENS</th>\n",
       "      <th>Species_CULEX PIPIENS/RESTUANS</th>\n",
       "      <th>Species_CULEX RESTUANS</th>\n",
       "      <th>Species_CULEX SALINARIUS</th>\n",
       "      <th>Species_CULEX TARSALIS</th>\n",
       "      <th>Species_CULEX TERRITANS</th>\n",
       "      <th>Species_UNSPECIFIED CULEX</th>\n",
       "    </tr>\n",
       "  </thead>\n",
       "  <tbody>\n",
       "    <tr>\n",
       "      <th>10506</th>\n",
       "      <td>9</td>\n",
       "      <td>41</td>\n",
       "      <td>1</td>\n",
       "      <td>86</td>\n",
       "      <td>61</td>\n",
       "      <td>74</td>\n",
       "      <td>7.0</td>\n",
       "      <td>56</td>\n",
       "      <td>64.0</td>\n",
       "      <td>0</td>\n",
       "      <td>...</td>\n",
       "      <td>6</td>\n",
       "      <td>11</td>\n",
       "      <td>0</td>\n",
       "      <td>0</td>\n",
       "      <td>1</td>\n",
       "      <td>0</td>\n",
       "      <td>0</td>\n",
       "      <td>0</td>\n",
       "      <td>0</td>\n",
       "      <td>0</td>\n",
       "    </tr>\n",
       "    <tr>\n",
       "      <th>10507</th>\n",
       "      <td>9</td>\n",
       "      <td>41</td>\n",
       "      <td>1</td>\n",
       "      <td>86</td>\n",
       "      <td>61</td>\n",
       "      <td>74</td>\n",
       "      <td>7.0</td>\n",
       "      <td>56</td>\n",
       "      <td>64.0</td>\n",
       "      <td>0</td>\n",
       "      <td>...</td>\n",
       "      <td>6</td>\n",
       "      <td>11</td>\n",
       "      <td>0</td>\n",
       "      <td>0</td>\n",
       "      <td>0</td>\n",
       "      <td>1</td>\n",
       "      <td>0</td>\n",
       "      <td>0</td>\n",
       "      <td>0</td>\n",
       "      <td>0</td>\n",
       "    </tr>\n",
       "  </tbody>\n",
       "</table>\n",
       "<p>2 rows × 34 columns</p>\n",
       "</div>"
      ],
      "text/plain": [
       "       AddressAccuracy  Block  Station  Tmax  Tmin  Tavg  Depart  DewPoint  \\\n",
       "10506                9     41        1    86    61    74     7.0        56   \n",
       "10507                9     41        1    86    61    74     7.0        56   \n",
       "\n",
       "       WetBulb  Heat            ...              Month  Day  \\\n",
       "10506     64.0     0            ...                  6   11   \n",
       "10507     64.0     0            ...                  6   11   \n",
       "\n",
       "       Species_CULEX ERRATICUS  Species_CULEX PIPIENS  \\\n",
       "10506                        0                      0   \n",
       "10507                        0                      0   \n",
       "\n",
       "       Species_CULEX PIPIENS/RESTUANS  Species_CULEX RESTUANS  \\\n",
       "10506                               1                       0   \n",
       "10507                               0                       1   \n",
       "\n",
       "       Species_CULEX SALINARIUS  Species_CULEX TARSALIS  \\\n",
       "10506                         0                       0   \n",
       "10507                         0                       0   \n",
       "\n",
       "       Species_CULEX TERRITANS  Species_UNSPECIFIED CULEX  \n",
       "10506                        0                          0  \n",
       "10507                        0                          0  \n",
       "\n",
       "[2 rows x 34 columns]"
      ]
     },
     "execution_count": 767,
     "metadata": {},
     "output_type": "execute_result"
    }
   ],
   "source": [
    "# test\n",
    "test = both.loc[test_index]\n",
    "test_id = test['Id']\n",
    "test = test.drop(columns=['Id','WnvPresent'])\n",
    "test.head(2)"
   ]
  },
  {
   "cell_type": "markdown",
   "metadata": {},
   "source": [
    "- Standrized features "
   ]
  },
  {
   "cell_type": "code",
   "execution_count": 768,
   "metadata": {
    "scrolled": true
   },
   "outputs": [],
   "source": [
    "# Standrized features \n",
    "ss = StandardScaler()\n",
    "train_ss = ss.fit_transform(train)\n",
    "test_ss = ss.transform(test)"
   ]
  },
  {
   "cell_type": "markdown",
   "metadata": {},
   "source": [
    "## Step 3: Modeling:"
   ]
  },
  {
   "cell_type": "markdown",
   "metadata": {},
   "source": [
    "### 1- Model 1"
   ]
  },
  {
   "cell_type": "code",
   "execution_count": 769,
   "metadata": {
    "scrolled": true
   },
   "outputs": [],
   "source": [
    "model = XGBClassifier()\n",
    "model.fit(train_ss, y)\n",
    "\n",
    "y_pred_log = model.predict_proba(test_ss)"
   ]
  },
  {
   "cell_type": "code",
   "execution_count": 773,
   "metadata": {},
   "outputs": [
    {
     "data": {
      "image/png": "[encoded data removed]",
      "text/plain": [
       "<Figure size 432x288 with 1 Axes>"
      ]
     },
     "metadata": {},
     "output_type": "display_data"
    }
   ],
   "source": [
    "# plot roc_curve\n",
    "y_pred_proba = model.predict_proba(train_ss)[:,1]\n",
    "fpr, tpr, _ = roc_curve(y,  y_pred_proba)\n",
    "auc = roc_auc_score(y, y_pred_proba)\n",
    "plt.plot(fpr,tpr,label=\"data 1, auc=\"+str(auc))\n",
    "plt.legend(loc=4)\n",
    "plt.show()"
   ]
  },
  {
   "cell_type": "code",
   "execution_count": 774,
   "metadata": {},
   "outputs": [],
   "source": [
    "#Get Execl Sheet\n",
    "pred = pd.DataFrame({'Id': test_id.astype(int), 'WnvPresent': y_pred_log[:,1]})\n",
    "pred.to_csv('WNV_4.csv', header=True, index=False)"
   ]
  }
 ],
 "metadata": {
  "kernelspec": {
   "display_name": "Python 3",
   "language": "python",
   "name": "python3"
  },
  "language_info": {
   "codemirror_mode": {
    "name": "ipython",
    "version": 3
   },
   "file_extension": ".py",
   "mimetype": "text/x-python",
   "name": "python",
   "nbconvert_exporter": "python",
   "pygments_lexer": "ipython3",
   "version": "3.6.5"
  }
 },
 "nbformat": 4,
 "nbformat_minor": 2
}
